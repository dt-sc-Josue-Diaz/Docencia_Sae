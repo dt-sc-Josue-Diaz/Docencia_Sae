{
 "cells": [
  {
   "cell_type": "code",
   "execution_count": 2,
   "id": "b2ac9002-bc2b-4533-bb4f-6b1111892c78",
   "metadata": {
    "tags": []
   },
   "outputs": [],
   "source": [
    "import sympy as sp"
   ]
  },
  {
   "cell_type": "code",
   "execution_count": 3,
   "id": "744e7d3c-6b16-488f-bce4-2b0d301f2dc7",
   "metadata": {
    "tags": []
   },
   "outputs": [],
   "source": [
    "x = sp.Symbol('x')"
   ]
  },
  {
   "cell_type": "code",
   "execution_count": 4,
   "id": "ce1e80a7-2b18-4fc4-9f25-6a77fe846b99",
   "metadata": {
    "tags": []
   },
   "outputs": [],
   "source": [
    "f = x**2"
   ]
  },
  {
   "cell_type": "code",
   "execution_count": null,
   "id": "25a43f3d-35aa-4a9a-a692-0f3657ab0d21",
   "metadata": {},
   "outputs": [],
   "source": []
  },
  {
   "cell_type": "code",
   "execution_count": 5,
   "id": "bc5d091e-8d4f-4a59-a733-f1c6fdcbcfab",
   "metadata": {
    "tags": []
   },
   "outputs": [],
   "source": [
    "h=2-x"
   ]
  },
  {
   "cell_type": "code",
   "execution_count": 8,
   "id": "8c7178fe-e4f8-49b5-8220-9a66e61012be",
   "metadata": {
    "tags": []
   },
   "outputs": [
    {
     "data": {
      "text/plain": [
       "[-2, 1]"
      ]
     },
     "execution_count": 8,
     "metadata": {},
     "output_type": "execute_result"
    }
   ],
   "source": [
    "sp.solve(sp.Eq(x**2+x-2,0))"
   ]
  }
 ],
 "metadata": {
  "kernelspec": {
   "display_name": "Python 3 (ipykernel)",
   "language": "python",
   "name": "python3"
  },
  "language_info": {
   "codemirror_mode": {
    "name": "ipython",
    "version": 3
   },
   "file_extension": ".py",
   "mimetype": "text/x-python",
   "name": "python",
   "nbconvert_exporter": "python",
   "pygments_lexer": "ipython3",
   "version": "3.11.2"
  }
 },
 "nbformat": 4,
 "nbformat_minor": 5
}
