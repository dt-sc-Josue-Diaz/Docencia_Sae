{
 "cells": [
  {
   "cell_type": "code",
   "execution_count": null,
   "id": "c8d651a2-b26d-4792-803f-d06fd8c46c98",
   "metadata": {},
   "outputs": [],
   "source": [
    "library(dplyr)\n",
    "library(gtools)\n",
    "library(combinat)"
   ]
  },
  {
   "cell_type": "code",
   "execution_count": null,
   "id": "63ef4f78-e6b7-42d3-a06f-71e581901f27",
   "metadata": {},
   "outputs": [],
   "source": [
    "urna <- 1:5\n",
    "con_orden_y_con_reemplazo <- expand.grid(urna,urna,urna)\n",
    "\n",
    "(conteo <- 5^3)\n",
    "\n",
    "tail(con_orden_y_con_reemplazo)"
   ]
  },
  {
   "cell_type": "code",
   "execution_count": null,
   "id": "990805ac-9a45-4a2d-a949-76035b14b5f7",
   "metadata": {},
   "outputs": [],
   "source": [
    "datos_con_dos <- con_orden_y_con_reemplazo %>% filter(Var1==2 | Var2==2 | Var3==2 )\n",
    "tail(datos_con_dos)"
   ]
  },
  {
   "cell_type": "code",
   "execution_count": null,
   "id": "3afde448-6696-49cb-8a1e-20145d489e16",
   "metadata": {},
   "outputs": [],
   "source": [
    "urna <- 1:5\n",
    "\n",
    "(conteo <- factorial(5)/factorial(5-3))\n",
    "\n",
    "Con_orden_sin_remplazo <- permutations(5,3,urna ) %>% as.data.frame\n",
    "tail(Con_orden_sin_remplazo)"
   ]
  },
  {
   "cell_type": "code",
   "execution_count": null,
   "id": "29f15995-ca76-429f-9ed3-88f1cbcc347e",
   "metadata": {},
   "outputs": [],
   "source": [
    "urna <- 1:5\n",
    "Con_orden_sin_remplazo_exahusiva <- permn(urna)  %>% as.data.frame\n",
    "dim(Con_orden_sin_remplazo)\n",
    "tail(Con_orden_sin_remplazo)\n",
    "factorial(5)"
   ]
  },
  {
   "cell_type": "code",
   "execution_count": null,
   "id": "5919769c-c341-4dd2-bce5-ba8ffc050388",
   "metadata": {},
   "outputs": [],
   "source": [
    "urna <- 1:5\n",
    "\n",
    "(Conteo <- choose(5,3))\n",
    "\n",
    "sin_orden_y_sin_remplazo <- combn(urna,3) %>% as.data.frame()\n",
    "sin_orden_y_sin_remplazo\n"
   ]
  },
  {
   "cell_type": "markdown",
   "id": "e03b019b-20a8-4af7-857a-0f525063fe6c",
   "metadata": {},
   "source": [
    "Supongamos dos dados con 6 lados"
   ]
  },
  {
   "cell_type": "code",
   "execution_count": null,
   "id": "82f96226-fab2-4136-baa7-a21642b616f3",
   "metadata": {},
   "outputs": [],
   "source": [
    "dado <- c(1,2,3,4,5,6)"
   ]
  },
  {
   "cell_type": "markdown",
   "id": "ef6e9bea-c366-405a-8b14-46d1b5a92fd7",
   "metadata": {},
   "source": [
    "Supongamos que queremos 2 extracciones de la urna sin reemplazo. Entonces el espacios muestral es"
   ]
  },
  {
   "cell_type": "code",
   "execution_count": null,
   "id": "694edfe7-8448-463d-8d7b-b9b3be42735d",
   "metadata": {},
   "outputs": [],
   "source": [
    "resultados_tiros_dos_dados <- expand.grid(Dado_uno = dado, Dado_dos = dado)\n",
    "tail(resultados_tiros_dos_dados)\n",
    "(cantidad <- dim(resultados_tiros_dos_dados)[1])\n"
   ]
  },
  {
   "cell_type": "code",
   "execution_count": null,
   "id": "b7a632d7-43bd-4d0b-9be1-4fa64f9b68cd",
   "metadata": {},
   "outputs": [],
   "source": [
    "6*6"
   ]
  },
  {
   "cell_type": "markdown",
   "id": "ed4ffc7d-e5d8-47f3-8f2e-4bf6ebabb5f7",
   "metadata": {},
   "source": [
    "Como en el lanzamiento de los dados, queremos un juego con la suma de los puntos en cada tiro. \n"
   ]
  },
  {
   "cell_type": "code",
   "execution_count": null,
   "id": "daa1f863-1d02-460a-b82a-231160e3f7b4",
   "metadata": {},
   "outputs": [],
   "source": [
    "espacio_muestral_dos_dados <- resultados_tiros_dos_dados %>% \n",
    "mutate(Resultado = Dado_uno + Dado_dos)\n",
    "\n",
    "dim(espacio_muestral_dos_dados)[1]\n",
    "tail(espacio_muestral_dos_dados)"
   ]
  },
  {
   "cell_type": "code",
   "execution_count": null,
   "id": "073037df-3521-4deb-acd8-2820f2bee84d",
   "metadata": {},
   "outputs": [],
   "source": [
    "combinaciones_ganadoras_dos_dados <- espacio_muestral_dos_dados %>% filter(espacio_muestral_dos_dados$Resultado == 7)\n",
    "combinaciones_ganadoras_dos_dados\n",
    "dim(combinaciones_ganadoras_dos_dados)[1]"
   ]
  },
  {
   "cell_type": "code",
   "execution_count": null,
   "id": "ddba0d32-cc29-4434-ae5c-2f2bb660ac02",
   "metadata": {},
   "outputs": [],
   "source": [
    "conteo <- count(espacio_muestral_dos_dados,Resultado)\n",
    "probabilidad <- conteo  %>% mutate(Probabilidad = n/dim(espacio_muestral_dos_dados)[1])\n",
    "probabilidad <- probabilidad %>% mutate(Frecuencias = 1/Probabilidad)\n",
    "probabilidad"
   ]
  },
  {
   "cell_type": "markdown",
   "id": "75f233e2-3498-4f95-b959-5698f327ff41",
   "metadata": {},
   "source": [
    "Supongamos que queremos 3 extracciones de la urna son reemplazo. Entonces el espacios muestral es"
   ]
  },
  {
   "cell_type": "code",
   "execution_count": null,
   "id": "68908105-749a-4294-b1d3-3791b049f0b7",
   "metadata": {},
   "outputs": [],
   "source": [
    "resultados_tiros_tres_dados <- expand.grid(Dado_uno = dado, Dado_dos = dado, Dado_tres = dado)\n",
    "dim(resultados_tiros_tres_dados)"
   ]
  },
  {
   "cell_type": "code",
   "execution_count": null,
   "id": "6b73cb05-88c0-461f-9b81-aab0dca0189f",
   "metadata": {},
   "outputs": [],
   "source": [
    "espacio_muestral_tres_dados <- resultados_tiros_tres_dados %>% mutate(Resultado = Dado_uno + Dado_dos + Dado_tres)\n",
    "tail(espacio_muestral_tres_dados)"
   ]
  },
  {
   "cell_type": "code",
   "execution_count": null,
   "id": "6eeb0e08-c221-4383-bfe4-97724ea4b61f",
   "metadata": {},
   "outputs": [],
   "source": [
    "probabilidad <- count(espacio_muestral_tres_dados,Resultado) %>% \n",
    "mutate(Probabilidad = n/dim(espacio_muestral_tres_dados)[1])  %>%\n",
    "mutate(Frecuencia = 1/Probabilidad)\n",
    "\n",
    "probabilidad"
   ]
  },
  {
   "cell_type": "code",
   "execution_count": null,
   "id": "9e3a092d-d54c-44c7-aab4-f1e8e2674709",
   "metadata": {},
   "outputs": [],
   "source": [
    "combinaciones_ganadoras <- espacio_muestral_tres_dados %>%\n",
    "filter(espacio_muestral_tres_dados$Resultado == 11 | espacio_muestral_tres_dados$Resultado == 10) %>% \n",
    "arrange(Resultado)\n",
    "\n",
    "combinaciones_ganadoras"
   ]
  },
  {
   "cell_type": "code",
   "execution_count": null,
   "id": "5a0f553d-b3d9-4982-ae79-d10843dcbfdf",
   "metadata": {},
   "outputs": [],
   "source": [
    "letters\n",
    "LETTERS\n",
    "length(letters)"
   ]
  },
  {
   "cell_type": "code",
   "execution_count": null,
   "id": "0734a6a3-d96d-469c-8887-0d2a73358bd9",
   "metadata": {},
   "outputs": [],
   "source": [
    "dias <- 1:6\n",
    "espacio_muestral <- expand.grid(abcedario, dias)\n",
    "tail(espacio_muestral)\n"
   ]
  },
  {
   "cell_type": "code",
   "execution_count": null,
   "id": "17ba3b59-f9ad-4fa9-8f5f-9b5d7a60e917",
   "metadata": {},
   "outputs": [],
   "source": [
    "letra_nombre <- function(letra, numero_fecha){\n",
    "    abcedario <- letters\n",
    "    fecha <- 1:31\n",
    "    \n",
    "    espacio_muestral <- expand.grid(abcedario, urna) %>% data.frame()\n",
    "    \n",
    "    busqueda <- c(letra, numero_fecha)\n",
    "    \n",
    "    buscar_dato <- function(fila, busqueda){\n",
    "        all(row == busqueda)\n",
    "    }\n",
    "    \n",
    "    coincidencias <- apply(espacio_muestral,1, buscar_dato,busqueda)\n",
    "    indices <- which\n",
    "    raturn()\n",
    "}\n"
   ]
  },
  {
   "cell_type": "code",
   "execution_count": null,
   "id": "fcec1ca4-abe1-4e30-b1bc-a3f1938f71a2",
   "metadata": {
    "tags": []
   },
   "outputs": [],
   "source": [
    "letra_nombre()"
   ]
  }
 ],
 "metadata": {
  "kernelspec": {
   "display_name": "R",
   "language": "R",
   "name": "ir"
  },
  "language_info": {
   "codemirror_mode": "r",
   "file_extension": ".r",
   "mimetype": "text/x-r-source",
   "name": "R",
   "pygments_lexer": "r",
   "version": "4.2.3"
  }
 },
 "nbformat": 4,
 "nbformat_minor": 5
}
