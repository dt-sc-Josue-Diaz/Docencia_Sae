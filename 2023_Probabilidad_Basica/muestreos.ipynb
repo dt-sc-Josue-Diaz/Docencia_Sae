{
 "cells": [
  {
   "cell_type": "code",
   "execution_count": 3,
   "id": "d965b9d1-8394-41be-a10c-8350ac399c5c",
   "metadata": {
    "tags": []
   },
   "outputs": [
    {
     "data": {
      "text/html": [
       "<style>\n",
       ".list-inline {list-style: none; margin:0; padding: 0}\n",
       ".list-inline>li {display: inline-block}\n",
       ".list-inline>li:not(:last-child)::after {content: \"\\00b7\"; padding: 0 .5ex}\n",
       "</style>\n",
       "<ol class=list-inline><li>1</li><li>2</li><li>4</li><li>5</li><li>7</li><li>8</li><li>10</li><li>11</li><li>13</li><li>14</li><li>16</li><li>17</li><li>19</li><li>20</li><li>22</li><li>23</li><li>25</li><li>26</li><li>28</li><li>29</li><li>31</li><li>32</li><li>34</li><li>35</li><li>37</li><li>38</li><li>40</li><li>41</li><li>43</li><li>44</li><li>46</li><li>47</li><li>49</li><li>50</li><li>52</li><li>53</li><li>55</li><li>56</li><li>58</li><li>59</li><li>61</li><li>62</li><li>64</li><li>65</li><li>67</li><li>68</li><li>70</li><li>71</li><li>73</li><li>74</li><li>76</li><li>77</li><li>79</li><li>80</li><li>82</li><li>83</li><li>85</li><li>86</li><li>88</li><li>89</li><li>91</li><li>92</li><li>94</li><li>95</li><li>97</li><li>98</li><li>100</li></ol>\n"
      ],
      "text/latex": [
       "\\begin{enumerate*}\n",
       "\\item 1\n",
       "\\item 2\n",
       "\\item 4\n",
       "\\item 5\n",
       "\\item 7\n",
       "\\item 8\n",
       "\\item 10\n",
       "\\item 11\n",
       "\\item 13\n",
       "\\item 14\n",
       "\\item 16\n",
       "\\item 17\n",
       "\\item 19\n",
       "\\item 20\n",
       "\\item 22\n",
       "\\item 23\n",
       "\\item 25\n",
       "\\item 26\n",
       "\\item 28\n",
       "\\item 29\n",
       "\\item 31\n",
       "\\item 32\n",
       "\\item 34\n",
       "\\item 35\n",
       "\\item 37\n",
       "\\item 38\n",
       "\\item 40\n",
       "\\item 41\n",
       "\\item 43\n",
       "\\item 44\n",
       "\\item 46\n",
       "\\item 47\n",
       "\\item 49\n",
       "\\item 50\n",
       "\\item 52\n",
       "\\item 53\n",
       "\\item 55\n",
       "\\item 56\n",
       "\\item 58\n",
       "\\item 59\n",
       "\\item 61\n",
       "\\item 62\n",
       "\\item 64\n",
       "\\item 65\n",
       "\\item 67\n",
       "\\item 68\n",
       "\\item 70\n",
       "\\item 71\n",
       "\\item 73\n",
       "\\item 74\n",
       "\\item 76\n",
       "\\item 77\n",
       "\\item 79\n",
       "\\item 80\n",
       "\\item 82\n",
       "\\item 83\n",
       "\\item 85\n",
       "\\item 86\n",
       "\\item 88\n",
       "\\item 89\n",
       "\\item 91\n",
       "\\item 92\n",
       "\\item 94\n",
       "\\item 95\n",
       "\\item 97\n",
       "\\item 98\n",
       "\\item 100\n",
       "\\end{enumerate*}\n"
      ],
      "text/markdown": [
       "1. 1\n",
       "2. 2\n",
       "3. 4\n",
       "4. 5\n",
       "5. 7\n",
       "6. 8\n",
       "7. 10\n",
       "8. 11\n",
       "9. 13\n",
       "10. 14\n",
       "11. 16\n",
       "12. 17\n",
       "13. 19\n",
       "14. 20\n",
       "15. 22\n",
       "16. 23\n",
       "17. 25\n",
       "18. 26\n",
       "19. 28\n",
       "20. 29\n",
       "21. 31\n",
       "22. 32\n",
       "23. 34\n",
       "24. 35\n",
       "25. 37\n",
       "26. 38\n",
       "27. 40\n",
       "28. 41\n",
       "29. 43\n",
       "30. 44\n",
       "31. 46\n",
       "32. 47\n",
       "33. 49\n",
       "34. 50\n",
       "35. 52\n",
       "36. 53\n",
       "37. 55\n",
       "38. 56\n",
       "39. 58\n",
       "40. 59\n",
       "41. 61\n",
       "42. 62\n",
       "43. 64\n",
       "44. 65\n",
       "45. 67\n",
       "46. 68\n",
       "47. 70\n",
       "48. 71\n",
       "49. 73\n",
       "50. 74\n",
       "51. 76\n",
       "52. 77\n",
       "53. 79\n",
       "54. 80\n",
       "55. 82\n",
       "56. 83\n",
       "57. 85\n",
       "58. 86\n",
       "59. 88\n",
       "60. 89\n",
       "61. 91\n",
       "62. 92\n",
       "63. 94\n",
       "64. 95\n",
       "65. 97\n",
       "66. 98\n",
       "67. 100\n",
       "\n",
       "\n"
      ],
      "text/plain": [
       " [1]   1   2   4   5   7   8  10  11  13  14  16  17  19  20  22  23  25  26  28\n",
       "[20]  29  31  32  34  35  37  38  40  41  43  44  46  47  49  50  52  53  55  56\n",
       "[39]  58  59  61  62  64  65  67  68  70  71  73  74  76  77  79  80  82  83  85\n",
       "[58]  86  88  89  91  92  94  95  97  98 100"
      ]
     },
     "metadata": {},
     "output_type": "display_data"
    },
    {
     "data": {
      "text/html": [
       "67"
      ],
      "text/latex": [
       "67"
      ],
      "text/markdown": [
       "67"
      ],
      "text/plain": [
       "[1] 67"
      ]
     },
     "metadata": {},
     "output_type": "display_data"
    },
    {
     "data": {
      "text/html": [
       "<style>\n",
       ".list-inline {list-style: none; margin:0; padding: 0}\n",
       ".list-inline>li {display: inline-block}\n",
       ".list-inline>li:not(:last-child)::after {content: \"\\00b7\"; padding: 0 .5ex}\n",
       "</style>\n",
       "<ol class=list-inline><li>1</li><li>5</li><li>7</li><li>11</li><li>13</li><li>17</li><li>19</li><li>23</li><li>25</li><li>29</li><li>31</li><li>35</li><li>37</li><li>41</li><li>43</li><li>47</li><li>49</li><li>53</li><li>55</li><li>59</li><li>61</li><li>65</li><li>67</li><li>71</li><li>73</li><li>77</li><li>79</li><li>83</li><li>85</li><li>89</li><li>91</li><li>95</li><li>97</li></ol>\n"
      ],
      "text/latex": [
       "\\begin{enumerate*}\n",
       "\\item 1\n",
       "\\item 5\n",
       "\\item 7\n",
       "\\item 11\n",
       "\\item 13\n",
       "\\item 17\n",
       "\\item 19\n",
       "\\item 23\n",
       "\\item 25\n",
       "\\item 29\n",
       "\\item 31\n",
       "\\item 35\n",
       "\\item 37\n",
       "\\item 41\n",
       "\\item 43\n",
       "\\item 47\n",
       "\\item 49\n",
       "\\item 53\n",
       "\\item 55\n",
       "\\item 59\n",
       "\\item 61\n",
       "\\item 65\n",
       "\\item 67\n",
       "\\item 71\n",
       "\\item 73\n",
       "\\item 77\n",
       "\\item 79\n",
       "\\item 83\n",
       "\\item 85\n",
       "\\item 89\n",
       "\\item 91\n",
       "\\item 95\n",
       "\\item 97\n",
       "\\end{enumerate*}\n"
      ],
      "text/markdown": [
       "1. 1\n",
       "2. 5\n",
       "3. 7\n",
       "4. 11\n",
       "5. 13\n",
       "6. 17\n",
       "7. 19\n",
       "8. 23\n",
       "9. 25\n",
       "10. 29\n",
       "11. 31\n",
       "12. 35\n",
       "13. 37\n",
       "14. 41\n",
       "15. 43\n",
       "16. 47\n",
       "17. 49\n",
       "18. 53\n",
       "19. 55\n",
       "20. 59\n",
       "21. 61\n",
       "22. 65\n",
       "23. 67\n",
       "24. 71\n",
       "25. 73\n",
       "26. 77\n",
       "27. 79\n",
       "28. 83\n",
       "29. 85\n",
       "30. 89\n",
       "31. 91\n",
       "32. 95\n",
       "33. 97\n",
       "\n",
       "\n"
      ],
      "text/plain": [
       " [1]  1  5  7 11 13 17 19 23 25 29 31 35 37 41 43 47 49 53 55 59 61 65 67 71 73\n",
       "[26] 77 79 83 85 89 91 95 97"
      ]
     },
     "metadata": {},
     "output_type": "display_data"
    },
    {
     "data": {
      "text/html": [
       "33"
      ],
      "text/latex": [
       "33"
      ],
      "text/markdown": [
       "33"
      ],
      "text/plain": [
       "[1] 33"
      ]
     },
     "metadata": {},
     "output_type": "display_data"
    }
   ],
   "source": [
    "x <- 1:100 \n",
    "z <- x[x %% 3 != 0]\n",
    "z\n",
    "length(z)\n",
    "y <- z[z %% 2 == 1]\n",
    "y\n",
    "length(y)"
   ]
  },
  {
   "cell_type": "markdown",
   "id": "37681b77-08a0-4364-a850-b6d80922aea1",
   "metadata": {},
   "source": [
    "# Muestreos"
   ]
  },
  {
   "cell_type": "markdown",
   "id": "4a424312-d109-44fc-98ed-f1cee62d2018",
   "metadata": {},
   "source": [
    "## Reemplazos"
   ]
  },
  {
   "cell_type": "code",
   "execution_count": 9,
   "id": "84554cdd-ef1b-4134-b36c-5d90b9ac44cd",
   "metadata": {
    "tags": []
   },
   "outputs": [],
   "source": [
    "library(gtools)\n",
    "\n",
    "datos <- LETTERS\n",
    "\n",
    "letras <- c(1,5,7,10)\n",
    "\n",
    "urna <- datos[letras]\n",
    "\n",
    "tam_muestra <- 4\n",
    "tam_conjunto <- length(urna)\n",
    "\n",
    "    \n",
    "    # Orden y con remplazo\n",
    "muestra_con_orden_con_reemplazo <- permutations(n = tam_conjunto, r=tam_muestra, v = urna, repeats.allowed = TRUE)\n",
    "\n",
    "if (tam_muestra <= tam_conjunto){\n",
    "    # Orden y sin remplazo    \n",
    "muestra_con_orden_sin_reemplazo <- permutations(n = tam_conjunto, r=tam_muestra, v = urna, repeats.allowed = FALSE)\n",
    "\n",
    "    # Sin orden y con remplazo    \n",
    "muestra_sin_orden_con_reemplazo <- combinations(n = tam_conjunto, r=tam_muestra, v = urna, repeats.allowed = TRUE)\n",
    "\n",
    "    # Sin orden y sin remplazo\n",
    "muestra_sin_orden_sin_reemplazo <- combinations(n = tam_conjunto, r=tam_muestra, v = urna, repeats.allowed = FALSE)\n",
    "}"
   ]
  },
  {
   "cell_type": "markdown",
   "id": "a76eec18-6d17-475f-a776-a0a1c604f8b3",
   "metadata": {},
   "source": [
    "# Orden y con remplazo"
   ]
  },
  {
   "cell_type": "code",
   "execution_count": 2,
   "id": "87bcc2a5-0c78-4bf4-ab28-88f3b70a27cf",
   "metadata": {
    "tags": []
   },
   "outputs": [
    {
     "data": {
      "text/html": [
       "<table class=\"dataframe\">\n",
       "<caption>A matrix: 256 × 4 of type int</caption>\n",
       "<tbody>\n",
       "\t<tr><td>1</td><td>1</td><td> 1</td><td> 1</td></tr>\n",
       "\t<tr><td>1</td><td>1</td><td> 1</td><td> 5</td></tr>\n",
       "\t<tr><td>1</td><td>1</td><td> 1</td><td> 7</td></tr>\n",
       "\t<tr><td>1</td><td>1</td><td> 1</td><td>10</td></tr>\n",
       "\t<tr><td>1</td><td>1</td><td> 5</td><td> 1</td></tr>\n",
       "\t<tr><td>1</td><td>1</td><td> 5</td><td> 5</td></tr>\n",
       "\t<tr><td>1</td><td>1</td><td> 5</td><td> 7</td></tr>\n",
       "\t<tr><td>1</td><td>1</td><td> 5</td><td>10</td></tr>\n",
       "\t<tr><td>1</td><td>1</td><td> 7</td><td> 1</td></tr>\n",
       "\t<tr><td>1</td><td>1</td><td> 7</td><td> 5</td></tr>\n",
       "\t<tr><td>1</td><td>1</td><td> 7</td><td> 7</td></tr>\n",
       "\t<tr><td>1</td><td>1</td><td> 7</td><td>10</td></tr>\n",
       "\t<tr><td>1</td><td>1</td><td>10</td><td> 1</td></tr>\n",
       "\t<tr><td>1</td><td>1</td><td>10</td><td> 5</td></tr>\n",
       "\t<tr><td>1</td><td>1</td><td>10</td><td> 7</td></tr>\n",
       "\t<tr><td>1</td><td>1</td><td>10</td><td>10</td></tr>\n",
       "\t<tr><td>1</td><td>5</td><td> 1</td><td> 1</td></tr>\n",
       "\t<tr><td>1</td><td>5</td><td> 1</td><td> 5</td></tr>\n",
       "\t<tr><td>1</td><td>5</td><td> 1</td><td> 7</td></tr>\n",
       "\t<tr><td>1</td><td>5</td><td> 1</td><td>10</td></tr>\n",
       "\t<tr><td>1</td><td>5</td><td> 5</td><td> 1</td></tr>\n",
       "\t<tr><td>1</td><td>5</td><td> 5</td><td> 5</td></tr>\n",
       "\t<tr><td>1</td><td>5</td><td> 5</td><td> 7</td></tr>\n",
       "\t<tr><td>1</td><td>5</td><td> 5</td><td>10</td></tr>\n",
       "\t<tr><td>1</td><td>5</td><td> 7</td><td> 1</td></tr>\n",
       "\t<tr><td>1</td><td>5</td><td> 7</td><td> 5</td></tr>\n",
       "\t<tr><td>1</td><td>5</td><td> 7</td><td> 7</td></tr>\n",
       "\t<tr><td>1</td><td>5</td><td> 7</td><td>10</td></tr>\n",
       "\t<tr><td>1</td><td>5</td><td>10</td><td> 1</td></tr>\n",
       "\t<tr><td>1</td><td>5</td><td>10</td><td> 5</td></tr>\n",
       "\t<tr><td>⋮</td><td>⋮</td><td>⋮</td><td>⋮</td></tr>\n",
       "\t<tr><td>10</td><td> 7</td><td> 1</td><td> 7</td></tr>\n",
       "\t<tr><td>10</td><td> 7</td><td> 1</td><td>10</td></tr>\n",
       "\t<tr><td>10</td><td> 7</td><td> 5</td><td> 1</td></tr>\n",
       "\t<tr><td>10</td><td> 7</td><td> 5</td><td> 5</td></tr>\n",
       "\t<tr><td>10</td><td> 7</td><td> 5</td><td> 7</td></tr>\n",
       "\t<tr><td>10</td><td> 7</td><td> 5</td><td>10</td></tr>\n",
       "\t<tr><td>10</td><td> 7</td><td> 7</td><td> 1</td></tr>\n",
       "\t<tr><td>10</td><td> 7</td><td> 7</td><td> 5</td></tr>\n",
       "\t<tr><td>10</td><td> 7</td><td> 7</td><td> 7</td></tr>\n",
       "\t<tr><td>10</td><td> 7</td><td> 7</td><td>10</td></tr>\n",
       "\t<tr><td>10</td><td> 7</td><td>10</td><td> 1</td></tr>\n",
       "\t<tr><td>10</td><td> 7</td><td>10</td><td> 5</td></tr>\n",
       "\t<tr><td>10</td><td> 7</td><td>10</td><td> 7</td></tr>\n",
       "\t<tr><td>10</td><td> 7</td><td>10</td><td>10</td></tr>\n",
       "\t<tr><td>10</td><td>10</td><td> 1</td><td> 1</td></tr>\n",
       "\t<tr><td>10</td><td>10</td><td> 1</td><td> 5</td></tr>\n",
       "\t<tr><td>10</td><td>10</td><td> 1</td><td> 7</td></tr>\n",
       "\t<tr><td>10</td><td>10</td><td> 1</td><td>10</td></tr>\n",
       "\t<tr><td>10</td><td>10</td><td> 5</td><td> 1</td></tr>\n",
       "\t<tr><td>10</td><td>10</td><td> 5</td><td> 5</td></tr>\n",
       "\t<tr><td>10</td><td>10</td><td> 5</td><td> 7</td></tr>\n",
       "\t<tr><td>10</td><td>10</td><td> 5</td><td>10</td></tr>\n",
       "\t<tr><td>10</td><td>10</td><td> 7</td><td> 1</td></tr>\n",
       "\t<tr><td>10</td><td>10</td><td> 7</td><td> 5</td></tr>\n",
       "\t<tr><td>10</td><td>10</td><td> 7</td><td> 7</td></tr>\n",
       "\t<tr><td>10</td><td>10</td><td> 7</td><td>10</td></tr>\n",
       "\t<tr><td>10</td><td>10</td><td>10</td><td> 1</td></tr>\n",
       "\t<tr><td>10</td><td>10</td><td>10</td><td> 5</td></tr>\n",
       "\t<tr><td>10</td><td>10</td><td>10</td><td> 7</td></tr>\n",
       "\t<tr><td>10</td><td>10</td><td>10</td><td>10</td></tr>\n",
       "</tbody>\n",
       "</table>\n"
      ],
      "text/latex": [
       "A matrix: 256 × 4 of type int\n",
       "\\begin{tabular}{llll}\n",
       "\t 1 & 1 &  1 &  1\\\\\n",
       "\t 1 & 1 &  1 &  5\\\\\n",
       "\t 1 & 1 &  1 &  7\\\\\n",
       "\t 1 & 1 &  1 & 10\\\\\n",
       "\t 1 & 1 &  5 &  1\\\\\n",
       "\t 1 & 1 &  5 &  5\\\\\n",
       "\t 1 & 1 &  5 &  7\\\\\n",
       "\t 1 & 1 &  5 & 10\\\\\n",
       "\t 1 & 1 &  7 &  1\\\\\n",
       "\t 1 & 1 &  7 &  5\\\\\n",
       "\t 1 & 1 &  7 &  7\\\\\n",
       "\t 1 & 1 &  7 & 10\\\\\n",
       "\t 1 & 1 & 10 &  1\\\\\n",
       "\t 1 & 1 & 10 &  5\\\\\n",
       "\t 1 & 1 & 10 &  7\\\\\n",
       "\t 1 & 1 & 10 & 10\\\\\n",
       "\t 1 & 5 &  1 &  1\\\\\n",
       "\t 1 & 5 &  1 &  5\\\\\n",
       "\t 1 & 5 &  1 &  7\\\\\n",
       "\t 1 & 5 &  1 & 10\\\\\n",
       "\t 1 & 5 &  5 &  1\\\\\n",
       "\t 1 & 5 &  5 &  5\\\\\n",
       "\t 1 & 5 &  5 &  7\\\\\n",
       "\t 1 & 5 &  5 & 10\\\\\n",
       "\t 1 & 5 &  7 &  1\\\\\n",
       "\t 1 & 5 &  7 &  5\\\\\n",
       "\t 1 & 5 &  7 &  7\\\\\n",
       "\t 1 & 5 &  7 & 10\\\\\n",
       "\t 1 & 5 & 10 &  1\\\\\n",
       "\t 1 & 5 & 10 &  5\\\\\n",
       "\t ⋮ & ⋮ & ⋮ & ⋮\\\\\n",
       "\t 10 &  7 &  1 &  7\\\\\n",
       "\t 10 &  7 &  1 & 10\\\\\n",
       "\t 10 &  7 &  5 &  1\\\\\n",
       "\t 10 &  7 &  5 &  5\\\\\n",
       "\t 10 &  7 &  5 &  7\\\\\n",
       "\t 10 &  7 &  5 & 10\\\\\n",
       "\t 10 &  7 &  7 &  1\\\\\n",
       "\t 10 &  7 &  7 &  5\\\\\n",
       "\t 10 &  7 &  7 &  7\\\\\n",
       "\t 10 &  7 &  7 & 10\\\\\n",
       "\t 10 &  7 & 10 &  1\\\\\n",
       "\t 10 &  7 & 10 &  5\\\\\n",
       "\t 10 &  7 & 10 &  7\\\\\n",
       "\t 10 &  7 & 10 & 10\\\\\n",
       "\t 10 & 10 &  1 &  1\\\\\n",
       "\t 10 & 10 &  1 &  5\\\\\n",
       "\t 10 & 10 &  1 &  7\\\\\n",
       "\t 10 & 10 &  1 & 10\\\\\n",
       "\t 10 & 10 &  5 &  1\\\\\n",
       "\t 10 & 10 &  5 &  5\\\\\n",
       "\t 10 & 10 &  5 &  7\\\\\n",
       "\t 10 & 10 &  5 & 10\\\\\n",
       "\t 10 & 10 &  7 &  1\\\\\n",
       "\t 10 & 10 &  7 &  5\\\\\n",
       "\t 10 & 10 &  7 &  7\\\\\n",
       "\t 10 & 10 &  7 & 10\\\\\n",
       "\t 10 & 10 & 10 &  1\\\\\n",
       "\t 10 & 10 & 10 &  5\\\\\n",
       "\t 10 & 10 & 10 &  7\\\\\n",
       "\t 10 & 10 & 10 & 10\\\\\n",
       "\\end{tabular}\n"
      ],
      "text/markdown": [
       "\n",
       "A matrix: 256 × 4 of type int\n",
       "\n",
       "| 1 | 1 |  1 |  1 |\n",
       "| 1 | 1 |  1 |  5 |\n",
       "| 1 | 1 |  1 |  7 |\n",
       "| 1 | 1 |  1 | 10 |\n",
       "| 1 | 1 |  5 |  1 |\n",
       "| 1 | 1 |  5 |  5 |\n",
       "| 1 | 1 |  5 |  7 |\n",
       "| 1 | 1 |  5 | 10 |\n",
       "| 1 | 1 |  7 |  1 |\n",
       "| 1 | 1 |  7 |  5 |\n",
       "| 1 | 1 |  7 |  7 |\n",
       "| 1 | 1 |  7 | 10 |\n",
       "| 1 | 1 | 10 |  1 |\n",
       "| 1 | 1 | 10 |  5 |\n",
       "| 1 | 1 | 10 |  7 |\n",
       "| 1 | 1 | 10 | 10 |\n",
       "| 1 | 5 |  1 |  1 |\n",
       "| 1 | 5 |  1 |  5 |\n",
       "| 1 | 5 |  1 |  7 |\n",
       "| 1 | 5 |  1 | 10 |\n",
       "| 1 | 5 |  5 |  1 |\n",
       "| 1 | 5 |  5 |  5 |\n",
       "| 1 | 5 |  5 |  7 |\n",
       "| 1 | 5 |  5 | 10 |\n",
       "| 1 | 5 |  7 |  1 |\n",
       "| 1 | 5 |  7 |  5 |\n",
       "| 1 | 5 |  7 |  7 |\n",
       "| 1 | 5 |  7 | 10 |\n",
       "| 1 | 5 | 10 |  1 |\n",
       "| 1 | 5 | 10 |  5 |\n",
       "| ⋮ | ⋮ | ⋮ | ⋮ |\n",
       "| 10 |  7 |  1 |  7 |\n",
       "| 10 |  7 |  1 | 10 |\n",
       "| 10 |  7 |  5 |  1 |\n",
       "| 10 |  7 |  5 |  5 |\n",
       "| 10 |  7 |  5 |  7 |\n",
       "| 10 |  7 |  5 | 10 |\n",
       "| 10 |  7 |  7 |  1 |\n",
       "| 10 |  7 |  7 |  5 |\n",
       "| 10 |  7 |  7 |  7 |\n",
       "| 10 |  7 |  7 | 10 |\n",
       "| 10 |  7 | 10 |  1 |\n",
       "| 10 |  7 | 10 |  5 |\n",
       "| 10 |  7 | 10 |  7 |\n",
       "| 10 |  7 | 10 | 10 |\n",
       "| 10 | 10 |  1 |  1 |\n",
       "| 10 | 10 |  1 |  5 |\n",
       "| 10 | 10 |  1 |  7 |\n",
       "| 10 | 10 |  1 | 10 |\n",
       "| 10 | 10 |  5 |  1 |\n",
       "| 10 | 10 |  5 |  5 |\n",
       "| 10 | 10 |  5 |  7 |\n",
       "| 10 | 10 |  5 | 10 |\n",
       "| 10 | 10 |  7 |  1 |\n",
       "| 10 | 10 |  7 |  5 |\n",
       "| 10 | 10 |  7 |  7 |\n",
       "| 10 | 10 |  7 | 10 |\n",
       "| 10 | 10 | 10 |  1 |\n",
       "| 10 | 10 | 10 |  5 |\n",
       "| 10 | 10 | 10 |  7 |\n",
       "| 10 | 10 | 10 | 10 |\n",
       "\n"
      ],
      "text/plain": [
       "      [,1] [,2] [,3] [,4]\n",
       " [1,] 1    1     1    1  \n",
       " [2,] 1    1     1    5  \n",
       " [3,] 1    1     1    7  \n",
       " [4,] 1    1     1   10  \n",
       " [5,] 1    1     5    1  \n",
       " [6,] 1    1     5    5  \n",
       " [7,] 1    1     5    7  \n",
       " [8,] 1    1     5   10  \n",
       " [9,] 1    1     7    1  \n",
       "[10,] 1    1     7    5  \n",
       "[11,] 1    1     7    7  \n",
       "[12,] 1    1     7   10  \n",
       "[13,] 1    1    10    1  \n",
       "[14,] 1    1    10    5  \n",
       "[15,] 1    1    10    7  \n",
       "[16,] 1    1    10   10  \n",
       "[17,] 1    5     1    1  \n",
       "[18,] 1    5     1    5  \n",
       "[19,] 1    5     1    7  \n",
       "[20,] 1    5     1   10  \n",
       "[21,] 1    5     5    1  \n",
       "[22,] 1    5     5    5  \n",
       "[23,] 1    5     5    7  \n",
       "[24,] 1    5     5   10  \n",
       "[25,] 1    5     7    1  \n",
       "[26,] 1    5     7    5  \n",
       "[27,] 1    5     7    7  \n",
       "[28,] 1    5     7   10  \n",
       "[29,] 1    5    10    1  \n",
       "[30,] 1    5    10    5  \n",
       "[31,] ⋮    ⋮    ⋮    ⋮   \n",
       "[32,] 10    7    1    7  \n",
       "[33,] 10    7    1   10  \n",
       "[34,] 10    7    5    1  \n",
       "[35,] 10    7    5    5  \n",
       "[36,] 10    7    5    7  \n",
       "[37,] 10    7    5   10  \n",
       "[38,] 10    7    7    1  \n",
       "[39,] 10    7    7    5  \n",
       "[40,] 10    7    7    7  \n",
       "[41,] 10    7    7   10  \n",
       "[42,] 10    7   10    1  \n",
       "[43,] 10    7   10    5  \n",
       "[44,] 10    7   10    7  \n",
       "[45,] 10    7   10   10  \n",
       "[46,] 10   10    1    1  \n",
       "[47,] 10   10    1    5  \n",
       "[48,] 10   10    1    7  \n",
       "[49,] 10   10    1   10  \n",
       "[50,] 10   10    5    1  \n",
       "[51,] 10   10    5    5  \n",
       "[52,] 10   10    5    7  \n",
       "[53,] 10   10    5   10  \n",
       "[54,] 10   10    7    1  \n",
       "[55,] 10   10    7    5  \n",
       "[56,] 10   10    7    7  \n",
       "[57,] 10   10    7   10  \n",
       "[58,] 10   10   10    1  \n",
       "[59,] 10   10   10    5  \n",
       "[60,] 10   10   10    7  \n",
       "[61,] 10   10   10   10  "
      ]
     },
     "metadata": {},
     "output_type": "display_data"
    }
   ],
   "source": [
    "muestra_con_orden_con_reemplazo"
   ]
  },
  {
   "cell_type": "markdown",
   "id": "774bb6b8-92a1-4e47-8e48-8518ad28311f",
   "metadata": {},
   "source": [
    "# Orden y sin remplazo"
   ]
  },
  {
   "cell_type": "code",
   "execution_count": 3,
   "id": "f9ba4b25-a0bd-4e4e-9a65-9be6ec518be6",
   "metadata": {
    "tags": []
   },
   "outputs": [
    {
     "data": {
      "text/html": [
       "<table class=\"dataframe\">\n",
       "<caption>A matrix: 24 × 4 of type int</caption>\n",
       "<tbody>\n",
       "\t<tr><td> 1</td><td> 5</td><td> 7</td><td>10</td></tr>\n",
       "\t<tr><td> 1</td><td> 5</td><td>10</td><td> 7</td></tr>\n",
       "\t<tr><td> 1</td><td> 7</td><td> 5</td><td>10</td></tr>\n",
       "\t<tr><td> 1</td><td> 7</td><td>10</td><td> 5</td></tr>\n",
       "\t<tr><td> 1</td><td>10</td><td> 5</td><td> 7</td></tr>\n",
       "\t<tr><td> 1</td><td>10</td><td> 7</td><td> 5</td></tr>\n",
       "\t<tr><td> 5</td><td> 1</td><td> 7</td><td>10</td></tr>\n",
       "\t<tr><td> 5</td><td> 1</td><td>10</td><td> 7</td></tr>\n",
       "\t<tr><td> 5</td><td> 7</td><td> 1</td><td>10</td></tr>\n",
       "\t<tr><td> 5</td><td> 7</td><td>10</td><td> 1</td></tr>\n",
       "\t<tr><td> 5</td><td>10</td><td> 1</td><td> 7</td></tr>\n",
       "\t<tr><td> 5</td><td>10</td><td> 7</td><td> 1</td></tr>\n",
       "\t<tr><td> 7</td><td> 1</td><td> 5</td><td>10</td></tr>\n",
       "\t<tr><td> 7</td><td> 1</td><td>10</td><td> 5</td></tr>\n",
       "\t<tr><td> 7</td><td> 5</td><td> 1</td><td>10</td></tr>\n",
       "\t<tr><td> 7</td><td> 5</td><td>10</td><td> 1</td></tr>\n",
       "\t<tr><td> 7</td><td>10</td><td> 1</td><td> 5</td></tr>\n",
       "\t<tr><td> 7</td><td>10</td><td> 5</td><td> 1</td></tr>\n",
       "\t<tr><td>10</td><td> 1</td><td> 5</td><td> 7</td></tr>\n",
       "\t<tr><td>10</td><td> 1</td><td> 7</td><td> 5</td></tr>\n",
       "\t<tr><td>10</td><td> 5</td><td> 1</td><td> 7</td></tr>\n",
       "\t<tr><td>10</td><td> 5</td><td> 7</td><td> 1</td></tr>\n",
       "\t<tr><td>10</td><td> 7</td><td> 1</td><td> 5</td></tr>\n",
       "\t<tr><td>10</td><td> 7</td><td> 5</td><td> 1</td></tr>\n",
       "</tbody>\n",
       "</table>\n"
      ],
      "text/latex": [
       "A matrix: 24 × 4 of type int\n",
       "\\begin{tabular}{llll}\n",
       "\t  1 &  5 &  7 & 10\\\\\n",
       "\t  1 &  5 & 10 &  7\\\\\n",
       "\t  1 &  7 &  5 & 10\\\\\n",
       "\t  1 &  7 & 10 &  5\\\\\n",
       "\t  1 & 10 &  5 &  7\\\\\n",
       "\t  1 & 10 &  7 &  5\\\\\n",
       "\t  5 &  1 &  7 & 10\\\\\n",
       "\t  5 &  1 & 10 &  7\\\\\n",
       "\t  5 &  7 &  1 & 10\\\\\n",
       "\t  5 &  7 & 10 &  1\\\\\n",
       "\t  5 & 10 &  1 &  7\\\\\n",
       "\t  5 & 10 &  7 &  1\\\\\n",
       "\t  7 &  1 &  5 & 10\\\\\n",
       "\t  7 &  1 & 10 &  5\\\\\n",
       "\t  7 &  5 &  1 & 10\\\\\n",
       "\t  7 &  5 & 10 &  1\\\\\n",
       "\t  7 & 10 &  1 &  5\\\\\n",
       "\t  7 & 10 &  5 &  1\\\\\n",
       "\t 10 &  1 &  5 &  7\\\\\n",
       "\t 10 &  1 &  7 &  5\\\\\n",
       "\t 10 &  5 &  1 &  7\\\\\n",
       "\t 10 &  5 &  7 &  1\\\\\n",
       "\t 10 &  7 &  1 &  5\\\\\n",
       "\t 10 &  7 &  5 &  1\\\\\n",
       "\\end{tabular}\n"
      ],
      "text/markdown": [
       "\n",
       "A matrix: 24 × 4 of type int\n",
       "\n",
       "|  1 |  5 |  7 | 10 |\n",
       "|  1 |  5 | 10 |  7 |\n",
       "|  1 |  7 |  5 | 10 |\n",
       "|  1 |  7 | 10 |  5 |\n",
       "|  1 | 10 |  5 |  7 |\n",
       "|  1 | 10 |  7 |  5 |\n",
       "|  5 |  1 |  7 | 10 |\n",
       "|  5 |  1 | 10 |  7 |\n",
       "|  5 |  7 |  1 | 10 |\n",
       "|  5 |  7 | 10 |  1 |\n",
       "|  5 | 10 |  1 |  7 |\n",
       "|  5 | 10 |  7 |  1 |\n",
       "|  7 |  1 |  5 | 10 |\n",
       "|  7 |  1 | 10 |  5 |\n",
       "|  7 |  5 |  1 | 10 |\n",
       "|  7 |  5 | 10 |  1 |\n",
       "|  7 | 10 |  1 |  5 |\n",
       "|  7 | 10 |  5 |  1 |\n",
       "| 10 |  1 |  5 |  7 |\n",
       "| 10 |  1 |  7 |  5 |\n",
       "| 10 |  5 |  1 |  7 |\n",
       "| 10 |  5 |  7 |  1 |\n",
       "| 10 |  7 |  1 |  5 |\n",
       "| 10 |  7 |  5 |  1 |\n",
       "\n"
      ],
      "text/plain": [
       "      [,1] [,2] [,3] [,4]\n",
       " [1,]  1    5    7   10  \n",
       " [2,]  1    5   10    7  \n",
       " [3,]  1    7    5   10  \n",
       " [4,]  1    7   10    5  \n",
       " [5,]  1   10    5    7  \n",
       " [6,]  1   10    7    5  \n",
       " [7,]  5    1    7   10  \n",
       " [8,]  5    1   10    7  \n",
       " [9,]  5    7    1   10  \n",
       "[10,]  5    7   10    1  \n",
       "[11,]  5   10    1    7  \n",
       "[12,]  5   10    7    1  \n",
       "[13,]  7    1    5   10  \n",
       "[14,]  7    1   10    5  \n",
       "[15,]  7    5    1   10  \n",
       "[16,]  7    5   10    1  \n",
       "[17,]  7   10    1    5  \n",
       "[18,]  7   10    5    1  \n",
       "[19,] 10    1    5    7  \n",
       "[20,] 10    1    7    5  \n",
       "[21,] 10    5    1    7  \n",
       "[22,] 10    5    7    1  \n",
       "[23,] 10    7    1    5  \n",
       "[24,] 10    7    5    1  "
      ]
     },
     "metadata": {},
     "output_type": "display_data"
    }
   ],
   "source": [
    "muestra_con_orden_sin_reemplazo"
   ]
  },
  {
   "cell_type": "markdown",
   "id": "d9a6cc7e-fb51-4d58-a7da-41bfcd07dedc",
   "metadata": {},
   "source": [
    "# Sin orden y con remplazo"
   ]
  },
  {
   "cell_type": "code",
   "execution_count": 4,
   "id": "0846c188-bdaa-4f71-9e97-e151d445bf81",
   "metadata": {
    "tags": []
   },
   "outputs": [
    {
     "data": {
      "text/html": [
       "<table class=\"dataframe\">\n",
       "<caption>A matrix: 35 × 4 of type int</caption>\n",
       "<tbody>\n",
       "\t<tr><td> 1</td><td> 1</td><td> 1</td><td> 1</td></tr>\n",
       "\t<tr><td> 1</td><td> 1</td><td> 1</td><td> 5</td></tr>\n",
       "\t<tr><td> 1</td><td> 1</td><td> 1</td><td> 7</td></tr>\n",
       "\t<tr><td> 1</td><td> 1</td><td> 1</td><td>10</td></tr>\n",
       "\t<tr><td> 1</td><td> 1</td><td> 5</td><td> 5</td></tr>\n",
       "\t<tr><td> 1</td><td> 1</td><td> 5</td><td> 7</td></tr>\n",
       "\t<tr><td> 1</td><td> 1</td><td> 5</td><td>10</td></tr>\n",
       "\t<tr><td> 1</td><td> 1</td><td> 7</td><td> 7</td></tr>\n",
       "\t<tr><td> 1</td><td> 1</td><td> 7</td><td>10</td></tr>\n",
       "\t<tr><td> 1</td><td> 1</td><td>10</td><td>10</td></tr>\n",
       "\t<tr><td> 1</td><td> 5</td><td> 5</td><td> 5</td></tr>\n",
       "\t<tr><td> 1</td><td> 5</td><td> 5</td><td> 7</td></tr>\n",
       "\t<tr><td> 1</td><td> 5</td><td> 5</td><td>10</td></tr>\n",
       "\t<tr><td> 1</td><td> 5</td><td> 7</td><td> 7</td></tr>\n",
       "\t<tr><td> 1</td><td> 5</td><td> 7</td><td>10</td></tr>\n",
       "\t<tr><td> 1</td><td> 5</td><td>10</td><td>10</td></tr>\n",
       "\t<tr><td> 1</td><td> 7</td><td> 7</td><td> 7</td></tr>\n",
       "\t<tr><td> 1</td><td> 7</td><td> 7</td><td>10</td></tr>\n",
       "\t<tr><td> 1</td><td> 7</td><td>10</td><td>10</td></tr>\n",
       "\t<tr><td> 1</td><td>10</td><td>10</td><td>10</td></tr>\n",
       "\t<tr><td> 5</td><td> 5</td><td> 5</td><td> 5</td></tr>\n",
       "\t<tr><td> 5</td><td> 5</td><td> 5</td><td> 7</td></tr>\n",
       "\t<tr><td> 5</td><td> 5</td><td> 5</td><td>10</td></tr>\n",
       "\t<tr><td> 5</td><td> 5</td><td> 7</td><td> 7</td></tr>\n",
       "\t<tr><td> 5</td><td> 5</td><td> 7</td><td>10</td></tr>\n",
       "\t<tr><td> 5</td><td> 5</td><td>10</td><td>10</td></tr>\n",
       "\t<tr><td> 5</td><td> 7</td><td> 7</td><td> 7</td></tr>\n",
       "\t<tr><td> 5</td><td> 7</td><td> 7</td><td>10</td></tr>\n",
       "\t<tr><td> 5</td><td> 7</td><td>10</td><td>10</td></tr>\n",
       "\t<tr><td> 5</td><td>10</td><td>10</td><td>10</td></tr>\n",
       "\t<tr><td> 7</td><td> 7</td><td> 7</td><td> 7</td></tr>\n",
       "\t<tr><td> 7</td><td> 7</td><td> 7</td><td>10</td></tr>\n",
       "\t<tr><td> 7</td><td> 7</td><td>10</td><td>10</td></tr>\n",
       "\t<tr><td> 7</td><td>10</td><td>10</td><td>10</td></tr>\n",
       "\t<tr><td>10</td><td>10</td><td>10</td><td>10</td></tr>\n",
       "</tbody>\n",
       "</table>\n"
      ],
      "text/latex": [
       "A matrix: 35 × 4 of type int\n",
       "\\begin{tabular}{llll}\n",
       "\t  1 &  1 &  1 &  1\\\\\n",
       "\t  1 &  1 &  1 &  5\\\\\n",
       "\t  1 &  1 &  1 &  7\\\\\n",
       "\t  1 &  1 &  1 & 10\\\\\n",
       "\t  1 &  1 &  5 &  5\\\\\n",
       "\t  1 &  1 &  5 &  7\\\\\n",
       "\t  1 &  1 &  5 & 10\\\\\n",
       "\t  1 &  1 &  7 &  7\\\\\n",
       "\t  1 &  1 &  7 & 10\\\\\n",
       "\t  1 &  1 & 10 & 10\\\\\n",
       "\t  1 &  5 &  5 &  5\\\\\n",
       "\t  1 &  5 &  5 &  7\\\\\n",
       "\t  1 &  5 &  5 & 10\\\\\n",
       "\t  1 &  5 &  7 &  7\\\\\n",
       "\t  1 &  5 &  7 & 10\\\\\n",
       "\t  1 &  5 & 10 & 10\\\\\n",
       "\t  1 &  7 &  7 &  7\\\\\n",
       "\t  1 &  7 &  7 & 10\\\\\n",
       "\t  1 &  7 & 10 & 10\\\\\n",
       "\t  1 & 10 & 10 & 10\\\\\n",
       "\t  5 &  5 &  5 &  5\\\\\n",
       "\t  5 &  5 &  5 &  7\\\\\n",
       "\t  5 &  5 &  5 & 10\\\\\n",
       "\t  5 &  5 &  7 &  7\\\\\n",
       "\t  5 &  5 &  7 & 10\\\\\n",
       "\t  5 &  5 & 10 & 10\\\\\n",
       "\t  5 &  7 &  7 &  7\\\\\n",
       "\t  5 &  7 &  7 & 10\\\\\n",
       "\t  5 &  7 & 10 & 10\\\\\n",
       "\t  5 & 10 & 10 & 10\\\\\n",
       "\t  7 &  7 &  7 &  7\\\\\n",
       "\t  7 &  7 &  7 & 10\\\\\n",
       "\t  7 &  7 & 10 & 10\\\\\n",
       "\t  7 & 10 & 10 & 10\\\\\n",
       "\t 10 & 10 & 10 & 10\\\\\n",
       "\\end{tabular}\n"
      ],
      "text/markdown": [
       "\n",
       "A matrix: 35 × 4 of type int\n",
       "\n",
       "|  1 |  1 |  1 |  1 |\n",
       "|  1 |  1 |  1 |  5 |\n",
       "|  1 |  1 |  1 |  7 |\n",
       "|  1 |  1 |  1 | 10 |\n",
       "|  1 |  1 |  5 |  5 |\n",
       "|  1 |  1 |  5 |  7 |\n",
       "|  1 |  1 |  5 | 10 |\n",
       "|  1 |  1 |  7 |  7 |\n",
       "|  1 |  1 |  7 | 10 |\n",
       "|  1 |  1 | 10 | 10 |\n",
       "|  1 |  5 |  5 |  5 |\n",
       "|  1 |  5 |  5 |  7 |\n",
       "|  1 |  5 |  5 | 10 |\n",
       "|  1 |  5 |  7 |  7 |\n",
       "|  1 |  5 |  7 | 10 |\n",
       "|  1 |  5 | 10 | 10 |\n",
       "|  1 |  7 |  7 |  7 |\n",
       "|  1 |  7 |  7 | 10 |\n",
       "|  1 |  7 | 10 | 10 |\n",
       "|  1 | 10 | 10 | 10 |\n",
       "|  5 |  5 |  5 |  5 |\n",
       "|  5 |  5 |  5 |  7 |\n",
       "|  5 |  5 |  5 | 10 |\n",
       "|  5 |  5 |  7 |  7 |\n",
       "|  5 |  5 |  7 | 10 |\n",
       "|  5 |  5 | 10 | 10 |\n",
       "|  5 |  7 |  7 |  7 |\n",
       "|  5 |  7 |  7 | 10 |\n",
       "|  5 |  7 | 10 | 10 |\n",
       "|  5 | 10 | 10 | 10 |\n",
       "|  7 |  7 |  7 |  7 |\n",
       "|  7 |  7 |  7 | 10 |\n",
       "|  7 |  7 | 10 | 10 |\n",
       "|  7 | 10 | 10 | 10 |\n",
       "| 10 | 10 | 10 | 10 |\n",
       "\n"
      ],
      "text/plain": [
       "      [,1] [,2] [,3] [,4]\n",
       " [1,]  1    1    1    1  \n",
       " [2,]  1    1    1    5  \n",
       " [3,]  1    1    1    7  \n",
       " [4,]  1    1    1   10  \n",
       " [5,]  1    1    5    5  \n",
       " [6,]  1    1    5    7  \n",
       " [7,]  1    1    5   10  \n",
       " [8,]  1    1    7    7  \n",
       " [9,]  1    1    7   10  \n",
       "[10,]  1    1   10   10  \n",
       "[11,]  1    5    5    5  \n",
       "[12,]  1    5    5    7  \n",
       "[13,]  1    5    5   10  \n",
       "[14,]  1    5    7    7  \n",
       "[15,]  1    5    7   10  \n",
       "[16,]  1    5   10   10  \n",
       "[17,]  1    7    7    7  \n",
       "[18,]  1    7    7   10  \n",
       "[19,]  1    7   10   10  \n",
       "[20,]  1   10   10   10  \n",
       "[21,]  5    5    5    5  \n",
       "[22,]  5    5    5    7  \n",
       "[23,]  5    5    5   10  \n",
       "[24,]  5    5    7    7  \n",
       "[25,]  5    5    7   10  \n",
       "[26,]  5    5   10   10  \n",
       "[27,]  5    7    7    7  \n",
       "[28,]  5    7    7   10  \n",
       "[29,]  5    7   10   10  \n",
       "[30,]  5   10   10   10  \n",
       "[31,]  7    7    7    7  \n",
       "[32,]  7    7    7   10  \n",
       "[33,]  7    7   10   10  \n",
       "[34,]  7   10   10   10  \n",
       "[35,] 10   10   10   10  "
      ]
     },
     "metadata": {},
     "output_type": "display_data"
    }
   ],
   "source": [
    "muestra_sin_orden_con_reemplazo"
   ]
  },
  {
   "cell_type": "markdown",
   "id": "a90dc9d0-c44d-41e5-aed3-37f6b7c8d669",
   "metadata": {},
   "source": [
    "# Sin orden y sin remplazo"
   ]
  },
  {
   "cell_type": "code",
   "execution_count": 5,
   "id": "d9ec624c-c657-4bb1-af43-64c9a26221b4",
   "metadata": {
    "tags": []
   },
   "outputs": [
    {
     "data": {
      "text/html": [
       "<table class=\"dataframe\">\n",
       "<caption>A matrix: 1 × 4 of type int</caption>\n",
       "<tbody>\n",
       "\t<tr><td>1</td><td>5</td><td>7</td><td>10</td></tr>\n",
       "</tbody>\n",
       "</table>\n"
      ],
      "text/latex": [
       "A matrix: 1 × 4 of type int\n",
       "\\begin{tabular}{llll}\n",
       "\t 1 & 5 & 7 & 10\\\\\n",
       "\\end{tabular}\n"
      ],
      "text/markdown": [
       "\n",
       "A matrix: 1 × 4 of type int\n",
       "\n",
       "| 1 | 5 | 7 | 10 |\n",
       "\n"
      ],
      "text/plain": [
       "     [,1] [,2] [,3] [,4]\n",
       "[1,] 1    5    7    10  "
      ]
     },
     "metadata": {},
     "output_type": "display_data"
    }
   ],
   "source": [
    "muestra_sin_orden_sin_reemplazo"
   ]
  },
  {
   "cell_type": "markdown",
   "id": "fe31619b-60a7-4ddb-bebd-6147b84e5d03",
   "metadata": {},
   "source": [
    "# Conteos teóricos"
   ]
  },
  {
   "cell_type": "code",
   "execution_count": 6,
   "id": "c56337ab-03a7-40be-9208-0f572d5d1596",
   "metadata": {
    "tags": []
   },
   "outputs": [
    {
     "data": {
      "text/html": [
       "256"
      ],
      "text/latex": [
       "256"
      ],
      "text/markdown": [
       "256"
      ],
      "text/plain": [
       "[1] 256"
      ]
     },
     "metadata": {},
     "output_type": "display_data"
    },
    {
     "data": {
      "text/html": [
       "24"
      ],
      "text/latex": [
       "24"
      ],
      "text/markdown": [
       "24"
      ],
      "text/plain": [
       "[1] 24"
      ]
     },
     "metadata": {},
     "output_type": "display_data"
    },
    {
     "data": {
      "text/html": [
       "35"
      ],
      "text/latex": [
       "35"
      ],
      "text/markdown": [
       "35"
      ],
      "text/plain": [
       "[1] 35"
      ]
     },
     "metadata": {},
     "output_type": "display_data"
    },
    {
     "data": {
      "text/html": [
       "1"
      ],
      "text/latex": [
       "1"
      ],
      "text/markdown": [
       "1"
      ],
      "text/plain": [
       "[1] 1"
      ]
     },
     "metadata": {},
     "output_type": "display_data"
    }
   ],
   "source": [
    "tam_conjunto^tam_muestra\n",
    "\n",
    "factorial(tam_conjunto)/factorial(tam_conjunto-tam_muestra)\n",
    "\n",
    "factorial(tam_conjunto+tam_muestra-1)/(factorial(tam_muestra)*factorial((tam_conjunto+tam_muestra-1)-tam_muestra))\n",
    "\n",
    "factorial(tam_conjunto)/(factorial(tam_muestra)*factorial(tam_conjunto-tam_muestra))"
   ]
  },
  {
   "cell_type": "markdown",
   "id": "df276661-3895-498e-a33c-827883bb233f",
   "metadata": {},
   "source": [
    "# Conteo por programa"
   ]
  },
  {
   "cell_type": "code",
   "execution_count": 7,
   "id": "2442221e-a7f5-4d87-af07-e0c9b71430a9",
   "metadata": {
    "tags": []
   },
   "outputs": [
    {
     "data": {
      "text/html": [
       "256"
      ],
      "text/latex": [
       "256"
      ],
      "text/markdown": [
       "256"
      ],
      "text/plain": [
       "[1] 256"
      ]
     },
     "metadata": {},
     "output_type": "display_data"
    },
    {
     "data": {
      "text/html": [
       "24"
      ],
      "text/latex": [
       "24"
      ],
      "text/markdown": [
       "24"
      ],
      "text/plain": [
       "[1] 24"
      ]
     },
     "metadata": {},
     "output_type": "display_data"
    },
    {
     "data": {
      "text/html": [
       "35"
      ],
      "text/latex": [
       "35"
      ],
      "text/markdown": [
       "35"
      ],
      "text/plain": [
       "[1] 35"
      ]
     },
     "metadata": {},
     "output_type": "display_data"
    },
    {
     "data": {
      "text/html": [
       "1"
      ],
      "text/latex": [
       "1"
      ],
      "text/markdown": [
       "1"
      ],
      "text/plain": [
       "[1] 1"
      ]
     },
     "metadata": {},
     "output_type": "display_data"
    }
   ],
   "source": [
    "dim(muestra_con_orden_con_reemplazo)[1]\n",
    "dim(muestra_con_orden_sin_reemplazo)[1]\n",
    "dim(muestra_sin_orden_con_reemplazo)[1]\n",
    "dim(muestra_sin_orden_sin_reemplazo)[1]"
   ]
  }
 ],
 "metadata": {
  "kernelspec": {
   "display_name": "R",
   "language": "R",
   "name": "ir"
  },
  "language_info": {
   "codemirror_mode": "r",
   "file_extension": ".r",
   "mimetype": "text/x-r-source",
   "name": "R",
   "pygments_lexer": "r",
   "version": "4.2.2"
  }
 },
 "nbformat": 4,
 "nbformat_minor": 5
}
