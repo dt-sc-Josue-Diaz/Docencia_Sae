{
 "cells": [
  {
   "cell_type": "markdown",
   "id": "7a897edc-e1ba-40ea-b001-cb5f4be28d85",
   "metadata": {},
   "source": [
    "# Ejercicios examen 1"
   ]
  },
  {
   "cell_type": "code",
   "execution_count": 6,
   "id": "8c16b5f1-bb54-4c46-b16a-5298f97a1dc6",
   "metadata": {
    "tags": []
   },
   "outputs": [],
   "source": [
    "from scipy.stats import norm"
   ]
  },
  {
   "cell_type": "code",
   "execution_count": 7,
   "id": "4807e651-8830-4ac2-8cfc-08675484c014",
   "metadata": {
    "tags": []
   },
   "outputs": [
    {
     "data": {
      "text/plain": [
       "2.7821504537846025"
      ]
     },
     "execution_count": 7,
     "metadata": {},
     "output_type": "execute_result"
    }
   ],
   "source": [
    "norm.ppf(.9973)"
   ]
  }
 ],
 "metadata": {
  "kernelspec": {
   "display_name": "Python 3 (ipykernel)",
   "language": "python",
   "name": "python3"
  },
  "language_info": {
   "codemirror_mode": {
    "name": "ipython",
    "version": 3
   },
   "file_extension": ".py",
   "mimetype": "text/x-python",
   "name": "python",
   "nbconvert_exporter": "python",
   "pygments_lexer": "ipython3",
   "version": "3.11.2"
  }
 },
 "nbformat": 4,
 "nbformat_minor": 5
}
