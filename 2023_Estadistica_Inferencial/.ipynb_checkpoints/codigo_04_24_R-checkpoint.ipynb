{
 "cells": [
  {
   "cell_type": "code",
   "execution_count": 53,
   "id": "ae1bd043-eb7b-40a3-a7c2-aa184417021f",
   "metadata": {
    "tags": []
   },
   "outputs": [],
   "source": [
    "n <- 13\n",
    "media_muestral <- 33\n",
    "des_esta_muestral <- 1.5\n",
    "nivel_confianza <- .80"
   ]
  },
  {
   "cell_type": "markdown",
   "id": "d0748123-3493-4ff0-bab1-412d3704be71",
   "metadata": {},
   "source": [
    "$P(-t_0 < t < t_0)=.80$"
   ]
  },
  {
   "cell_type": "code",
   "execution_count": 94,
   "id": "0d309a54-b24a-4883-b1dc-9ff7813322bd",
   "metadata": {
    "tags": []
   },
   "outputs": [
    {
     "data": {
      "text/html": [
       "0.1"
      ],
      "text/latex": [
       "0.1"
      ],
      "text/markdown": [
       "0.1"
      ],
      "text/plain": [
       "[1] 0.1"
      ]
     },
     "metadata": {},
     "output_type": "display_data"
    },
    {
     "data": {
      "text/html": [
       "1.35621733402321"
      ],
      "text/latex": [
       "1.35621733402321"
      ],
      "text/markdown": [
       "1.35621733402321"
      ],
      "text/plain": [
       "[1] 1.356217"
      ]
     },
     "metadata": {},
     "output_type": "display_data"
    }
   ],
   "source": [
    "t_0 <- qt((1-nivel_confianza)/2,n-1,lower.tail = FALSE)\n",
    "pt(t_0,n-1,lower.tail = FALSE) \n",
    "t_0"
   ]
  },
  {
   "cell_type": "code",
   "execution_count": 98,
   "id": "98a3ce86-b5d5-4ede-9a8e-d33fc4920dde",
   "metadata": {
    "tags": []
   },
   "outputs": [
    {
     "data": {
      "text/html": [
       "0.1"
      ],
      "text/latex": [
       "0.1"
      ],
      "text/markdown": [
       "0.1"
      ],
      "text/plain": [
       "[1] 0.1"
      ]
     },
     "metadata": {},
     "output_type": "display_data"
    },
    {
     "data": {
      "text/html": [
       "-1.35621733402321"
      ],
      "text/latex": [
       "-1.35621733402321"
      ],
      "text/markdown": [
       "-1.35621733402321"
      ],
      "text/plain": [
       "[1] -1.356217"
      ]
     },
     "metadata": {},
     "output_type": "display_data"
    }
   ],
   "source": [
    "t_0 <- qt((1-nivel_confianza)/2,n-1)\n",
    "pt(t_0,n-1) \n",
    "t_0"
   ]
  },
  {
   "cell_type": "code",
   "execution_count": 95,
   "id": "ee38d8f3-d90a-4961-90d1-6738ff38303a",
   "metadata": {
    "tags": []
   },
   "outputs": [
    {
     "data": {
      "text/html": [
       "0.564220515980047"
      ],
      "text/latex": [
       "0.564220515980047"
      ],
      "text/markdown": [
       "0.564220515980047"
      ],
      "text/plain": [
       "[1] 0.5642205"
      ]
     },
     "metadata": {},
     "output_type": "display_data"
    }
   ],
   "source": [
    "error <- abs(t_0)*(des_esta_muestral/sqrt(n))\n",
    "error"
   ]
  },
  {
   "cell_type": "code",
   "execution_count": 96,
   "id": "2410f61d-f32a-4389-8d5f-4b191d24120c",
   "metadata": {
    "tags": []
   },
   "outputs": [],
   "source": [
    "limite_inferior <- media_muestral - error\n",
    "limite_superior <- media_muestral + error"
   ]
  },
  {
   "cell_type": "code",
   "execution_count": 97,
   "id": "499880a3-7821-4eda-a59f-a98fc99b1082",
   "metadata": {
    "tags": []
   },
   "outputs": [
    {
     "data": {
      "text/html": [
       "<style>\n",
       ".list-inline {list-style: none; margin:0; padding: 0}\n",
       ".list-inline>li {display: inline-block}\n",
       ".list-inline>li:not(:last-child)::after {content: \"\\00b7\"; padding: 0 .5ex}\n",
       "</style>\n",
       "<ol class=list-inline><li>32.43577948402</li><li>33.56422051598</li></ol>\n"
      ],
      "text/latex": [
       "\\begin{enumerate*}\n",
       "\\item 32.43577948402\n",
       "\\item 33.56422051598\n",
       "\\end{enumerate*}\n"
      ],
      "text/markdown": [
       "1. 32.43577948402\n",
       "2. 33.56422051598\n",
       "\n",
       "\n"
      ],
      "text/plain": [
       "[1] 32.43578 33.56422"
      ]
     },
     "metadata": {},
     "output_type": "display_data"
    }
   ],
   "source": [
    "intevalo_confianza <- c(limite_inferior,limite_superior)\n",
    "intevalo_confianza"
   ]
  },
  {
   "cell_type": "code",
   "execution_count": null,
   "id": "dee78a84-43c1-46c2-9df2-dd4fef883425",
   "metadata": {},
   "outputs": [],
   "source": [
    "(media_muestral - )/"
   ]
  },
  {
   "cell_type": "markdown",
   "id": "0c883ce5-bd93-4f3a-8a07-c3ccd4ccf3b8",
   "metadata": {},
   "source": [
    "con una probabilidad del $.70$ la media poblacional está en este intervalo"
   ]
  },
  {
   "cell_type": "code",
   "execution_count": 26,
   "id": "1b94c1f3-5e52-471f-95fd-fa9655c86fbe",
   "metadata": {
    "tags": []
   },
   "outputs": [
    {
     "name": "stderr",
     "output_type": "stream",
     "text": [
      "Loading required package: lattice\n",
      "\n",
      "\n",
      "Attaching package: ‘BSDA’\n",
      "\n",
      "\n",
      "The following object is masked from ‘package:datasets’:\n",
      "\n",
      "    Orange\n",
      "\n",
      "\n"
     ]
    }
   ],
   "source": [
    "library(BSDA)"
   ]
  },
  {
   "cell_type": "code",
   "execution_count": 54,
   "id": "57e0d266-2bf3-4945-9603-219ef1ac76e0",
   "metadata": {
    "tags": []
   },
   "outputs": [
    {
     "name": "stderr",
     "output_type": "stream",
     "text": [
      "Warning message in tsum.test(mean.x = media_muestral, s.x = des_esta_muestral, n.x = n, :\n",
      "“argument 'var.equal' ignored for one-sample test.”\n"
     ]
    },
    {
     "data": {
      "text/plain": [
       "\n",
       "\tOne-sample t-Test\n",
       "\n",
       "data:  Summarized x\n",
       "t = 79.322, df = 12, p-value < 2.2e-16\n",
       "alternative hypothesis: true mean is not equal to 0\n",
       "80 percent confidence interval:\n",
       " 32.43578 33.56422\n",
       "sample estimates:\n",
       "mean of x \n",
       "       33 \n"
      ]
     },
     "metadata": {},
     "output_type": "display_data"
    }
   ],
   "source": [
    "tsum.test(mean.x = media_muestral,\n",
    "          s.x = des_esta_muestral,\n",
    "          n.x = n, \n",
    "          conf.level = nivel_confianza)"
   ]
  },
  {
   "cell_type": "code",
   "execution_count": 57,
   "id": "b4f988e8-6e03-4b6c-902e-a0ca5df78dd7",
   "metadata": {
    "tags": []
   },
   "outputs": [
    {
     "data": {
      "text/html": [
       "32.43578"
      ],
      "text/latex": [
       "32.43578"
      ],
      "text/markdown": [
       "32.43578"
      ],
      "text/plain": [
       "[1] 32.43578"
      ]
     },
     "metadata": {},
     "output_type": "display_data"
    }
   ],
   "source": [
    "33-(33.56422-33)"
   ]
  },
  {
   "cell_type": "code",
   "execution_count": 40,
   "id": "53364c97-ab26-469e-910e-928888dce60f",
   "metadata": {
    "tags": []
   },
   "outputs": [
    {
     "data": {
      "text/html": [
       "\n",
       "<table style=\"width: 100%;\"><tr><td>tsum.test {BSDA}</td><td style=\"text-align: right;\">R Documentation</td></tr></table>\n",
       "\n",
       "<h2 id='tsum.test'>Summarized t-test</h2>\n",
       "\n",
       "<h3>Description</h3>\n",
       "\n",
       "<p>Performs a one-sample, two-sample, or a Welch modified two-sample t-test\n",
       "based on user supplied summary information. Output is identical to that\n",
       "produced with <code>t.test</code>.\n",
       "</p>\n",
       "\n",
       "\n",
       "<h3>Usage</h3>\n",
       "\n",
       "<pre><code class='language-R'>tsum.test(\n",
       "  mean.x,\n",
       "  s.x = NULL,\n",
       "  n.x = NULL,\n",
       "  mean.y = NULL,\n",
       "  s.y = NULL,\n",
       "  n.y = NULL,\n",
       "  alternative = \"two.sided\",\n",
       "  mu = 0,\n",
       "  var.equal = FALSE,\n",
       "  conf.level = 0.95\n",
       ")\n",
       "</code></pre>\n",
       "\n",
       "\n",
       "<h3>Arguments</h3>\n",
       "\n",
       "<table>\n",
       "<tr><td><code id=\"tsum.test_:_mean.x\">mean.x</code></td>\n",
       "<td>\n",
       "<p>a single number representing the sample mean of <code>x</code></p>\n",
       "</td></tr>\n",
       "<tr><td><code id=\"tsum.test_:_s.x\">s.x</code></td>\n",
       "<td>\n",
       "<p>a single number representing the sample standard deviation for\n",
       "<code>x</code></p>\n",
       "</td></tr>\n",
       "<tr><td><code id=\"tsum.test_:_n.x\">n.x</code></td>\n",
       "<td>\n",
       "<p>a single number representing the sample size for <code>x</code></p>\n",
       "</td></tr>\n",
       "<tr><td><code id=\"tsum.test_:_mean.y\">mean.y</code></td>\n",
       "<td>\n",
       "<p>a single number representing the sample mean of <code>y</code></p>\n",
       "</td></tr>\n",
       "<tr><td><code id=\"tsum.test_:_s.y\">s.y</code></td>\n",
       "<td>\n",
       "<p>a single number representing the sample standard deviation for\n",
       "<code>y</code></p>\n",
       "</td></tr>\n",
       "<tr><td><code id=\"tsum.test_:_n.y\">n.y</code></td>\n",
       "<td>\n",
       "<p>a single number representing the sample size for <code>y</code></p>\n",
       "</td></tr>\n",
       "<tr><td><code id=\"tsum.test_:_alternative\">alternative</code></td>\n",
       "<td>\n",
       "<p>is a character string, one of <code>\"greater\"</code>,\n",
       "<code>\"less\"</code> or <code>\"two.sided\"</code>, or just the initial letter of each,\n",
       "indicating the specification of the alternative hypothesis. For one-sample\n",
       "tests, <code>alternative</code> refers to the true mean of the parent population\n",
       "in relation to the hypothesized value <code>mu</code>.  For the standard\n",
       "two-sample tests, <code>alternative</code> refers to the difference between the\n",
       "true population mean for <code>x</code> and that for <code>y</code>, in relation to\n",
       "<code>mu</code>.  For the one-sample and paired t-tests, <code>alternative</code> refers\n",
       "to the true mean of the parent population in relation to the hypothesized\n",
       "value <code>mu</code>. For the standard and Welch modified two-sample t-tests,\n",
       "<code>alternative</code> refers to the difference between the true population mean\n",
       "for <code>x</code> and that for <code>y</code>, in relation to <code>mu</code>.  For the\n",
       "one-sample t-tests, alternative refers to the true mean of the parent\n",
       "population in relation to the hypothesized value <code>mu</code>. For the standard\n",
       "and Welch modified two-sample t-tests, alternative refers to the difference\n",
       "between the true population mean for <code>x</code> and that for <code>y</code>, in\n",
       "relation to <code>mu</code>.</p>\n",
       "</td></tr>\n",
       "<tr><td><code id=\"tsum.test_:_mu\">mu</code></td>\n",
       "<td>\n",
       "<p>is a single number representing the value of the mean or\n",
       "difference in means specified by the null hypothesis.</p>\n",
       "</td></tr>\n",
       "<tr><td><code id=\"tsum.test_:_var.equal\">var.equal</code></td>\n",
       "<td>\n",
       "<p>logical flag: if <code>TRUE</code>, the variances of the parent\n",
       "populations of <code>x</code> and <code>y</code> are assumed equal. Argument\n",
       "<code>var.equal</code> should be supplied only for the two-sample tests.</p>\n",
       "</td></tr>\n",
       "<tr><td><code id=\"tsum.test_:_conf.level\">conf.level</code></td>\n",
       "<td>\n",
       "<p>is the confidence level for the returned confidence\n",
       "interval; it must lie between zero and one.</p>\n",
       "</td></tr>\n",
       "</table>\n",
       "\n",
       "\n",
       "<h3>Details</h3>\n",
       "\n",
       "<p>If <code>y</code> is <code>NULL</code>, a one-sample t-test is carried out with\n",
       "<code>x</code>. If y is not <code>NULL</code>, either a standard or Welch modified\n",
       "two-sample t-test is performed, depending on whether <code>var.equal</code> is\n",
       "<code>TRUE</code> or <code>FALSE</code>.\n",
       "</p>\n",
       "\n",
       "\n",
       "<h3>Value</h3>\n",
       "\n",
       "<p>A list of class <code>htest</code>, containing the following components:\n",
       "</p>\n",
       "<table>\n",
       "<tr><td><code>statistic</code></td>\n",
       "<td>\n",
       "<p>the t-statistic, with names attribute <code>\"t\"</code></p>\n",
       "</td></tr>\n",
       "<tr><td><code>parameters</code></td>\n",
       "<td>\n",
       "<p>is the degrees of freedom of the t-distribution associated\n",
       "with statistic.  Component <code>parameters</code> has names attribute\n",
       "<code>\"df\"</code>.</p>\n",
       "</td></tr> <tr><td><code>p.value</code></td>\n",
       "<td>\n",
       "<p>the p-value for the test.</p>\n",
       "</td></tr> <tr><td><code>conf.int</code></td>\n",
       "<td>\n",
       "<p>is\n",
       "a confidence interval (vector of length 2) for the true mean or difference\n",
       "in means. The confidence level is recorded in the attribute\n",
       "<code>conf.level</code>. When alternative is not <code>\"two.sided\"</code>, the\n",
       "confidence interval will be half-infinite, to reflect the interpretation of\n",
       "a confidence interval as the set of all values <code>k</code> for which one would\n",
       "not reject the null hypothesis that the true mean or difference in means is\n",
       "<code>k</code> . Here infinity will be represented by <code>Inf</code>.</p>\n",
       "</td></tr>\n",
       "<tr><td><code>estimate</code></td>\n",
       "<td>\n",
       "<p>vector of length 1 or 2, giving the sample mean(s) or mean\n",
       "of differences; these estimate the corresponding population parameters.\n",
       "Component <code>estimate</code> has a names attribute describing its elements.</p>\n",
       "</td></tr>\n",
       "<tr><td><code>null.value</code></td>\n",
       "<td>\n",
       "<p>the value of the mean or difference in means specified by\n",
       "the null hypothesis. This equals the input argument <code>mu</code>. Component\n",
       "<code>null.value</code> has a names attribute describing its elements.</p>\n",
       "</td></tr>\n",
       "<tr><td><code>alternative</code></td>\n",
       "<td>\n",
       "<p>records the value of the input argument alternative:\n",
       "<code>\"greater\"</code> , <code>\"less\"</code> or <code>\"two.sided\"</code>.</p>\n",
       "</td></tr> <tr><td><code>data.name</code></td>\n",
       "<td>\n",
       "<p>a\n",
       "character string (vector of length 1) containing the names x and y for the\n",
       "two summarized samples.</p>\n",
       "</td></tr>\n",
       "</table>\n",
       "\n",
       "\n",
       "<h3>Null Hypothesis</h3>\n",
       "\n",
       "<p>For the one-sample t-test, the null hypothesis is\n",
       "that the mean of the population from which <code>x</code> is drawn is <code>mu</code>.\n",
       "For the standard and Welch modified two-sample t-tests, the null hypothesis\n",
       "is that the population mean for <code>x</code> less that for <code>y</code> is\n",
       "<code>mu</code>.\n",
       "</p>\n",
       "<p>The alternative hypothesis in each case indicates the direction of\n",
       "divergence of the population mean for <code>x</code> (or difference of means for\n",
       "<code>x</code> and <code>y</code>) from <code>mu</code> (i.e., <code>\"greater\"</code>,\n",
       "<code>\"less\"</code>, or <code>\"two.sided\"</code>).\n",
       "</p>\n",
       "\n",
       "\n",
       "<h3>Author(s)</h3>\n",
       "\n",
       "<p>Alan T. Arnholt\n",
       "</p>\n",
       "\n",
       "\n",
       "<h3>References</h3>\n",
       "\n",
       "<p>Kitchens, L.J. (2003). <em>Basic Statistics and Data\n",
       "Analysis</em>. Duxbury.\n",
       "</p>\n",
       "<p>Hogg, R. V. and Craig, A. T. (1970). <em>Introduction to Mathematical\n",
       "Statistics, 3rd ed</em>. Toronto, Canada: Macmillan.\n",
       "</p>\n",
       "<p>Mood, A. M., Graybill, F. A. and Boes, D. C. (1974). <em>Introduction to\n",
       "the Theory of Statistics, 3rd ed</em>. New York: McGraw-Hill.\n",
       "</p>\n",
       "<p>Snedecor, G. W. and Cochran, W. G. (1980). <em>Statistical Methods, 7th\n",
       "ed</em>. Ames, Iowa: Iowa State University Press.\n",
       "</p>\n",
       "\n",
       "\n",
       "<h3>See Also</h3>\n",
       "\n",
       "<p><code>z.test</code>, <code>zsum.test</code>\n",
       "</p>\n",
       "\n",
       "\n",
       "<h3>Examples</h3>\n",
       "\n",
       "<pre><code class='language-R'>\n",
       "tsum.test(mean.x=5.6, s.x=2.1, n.x=16, mu=4.9, alternative=\"greater\")\n",
       "        # Problem 6.31 on page 324 of BSDA states:  The chamber of commerce\n",
       "        # of a particular city claims that the mean carbon dioxide\n",
       "        # level of air polution is no greater than 4.9 ppm.  A random\n",
       "        # sample of 16 readings resulted in a sample mean of 5.6 ppm,\n",
       "        # and s=2.1 ppm.  One-sided one-sample t-test.  The null \n",
       "        # hypothesis is that the population mean for 'x' is 4.9.   \n",
       "        # The alternative hypothesis states that it is greater than 4.9.  \n",
       "\n",
       "x &lt;- rnorm(12) \n",
       "tsum.test(mean(x), sd(x), n.x=12)\n",
       "        # Two-sided one-sample t-test. The null hypothesis is that  \n",
       "        # the population mean for 'x' is zero. The alternative \n",
       "        # hypothesis states  that it is either greater or less \n",
       "        # than zero. A confidence interval for the population mean \n",
       "        # will be computed.  Note: above returns same answer as: \n",
       "t.test(x)\n",
       "   \n",
       "x &lt;- c(7.8, 6.6, 6.5, 7.4, 7.3, 7.0, 6.4, 7.1, 6.7, 7.6, 6.8) \n",
       "y &lt;- c(4.5, 5.4, 6.1, 6.1, 5.4, 5.0, 4.1, 5.5) \n",
       "tsum.test(mean(x), s.x=sd(x), n.x=11 ,mean(y), s.y=sd(y), n.y=8, mu=2)\n",
       "        # Two-sided standard two-sample t-test.  The null hypothesis  \n",
       "        # is that the population mean for 'x' less that for 'y' is 2. \n",
       "        # The alternative hypothesis is that this difference is not 2. \n",
       "        # A confidence interval for the true difference will be computed.\n",
       "        # Note: above returns same answer as: \n",
       "t.test(x, y)\n",
       "        \n",
       "tsum.test(mean(x), s.x=sd(x), n.x=11, mean(y), s.y=sd(y), n.y=8, conf.level=0.90)\n",
       "        # Two-sided standard two-sample t-test.  The null hypothesis \n",
       "        # is that the population mean for 'x' less that for 'y' is zero.  \n",
       "        # The alternative hypothesis is that this difference is not\n",
       "        # zero.  A 90% confidence interval for the true difference will \n",
       "        # be computed.  Note: above returns same answer as:\n",
       "t.test(x, y, conf.level=0.90)\n",
       "\n",
       "\n",
       "</code></pre>\n",
       "\n",
       "<hr /><div style=\"text-align: center;\">[Package <em>BSDA</em> version 1.2.1 ]</div>\n",
       "</div>"
      ],
      "text/latex": [
       "\\inputencoding{utf8}\n",
       "\\HeaderA{tsum.test}{Summarized t-test}{tsum.test}\n",
       "\\keyword{htest}{tsum.test}\n",
       "%\n",
       "\\begin{Description}\n",
       "Performs a one-sample, two-sample, or a Welch modified two-sample t-test\n",
       "based on user supplied summary information. Output is identical to that\n",
       "produced with \\code{t.test}.\n",
       "\\end{Description}\n",
       "%\n",
       "\\begin{Usage}\n",
       "\\begin{verbatim}\n",
       "tsum.test(\n",
       "  mean.x,\n",
       "  s.x = NULL,\n",
       "  n.x = NULL,\n",
       "  mean.y = NULL,\n",
       "  s.y = NULL,\n",
       "  n.y = NULL,\n",
       "  alternative = \"two.sided\",\n",
       "  mu = 0,\n",
       "  var.equal = FALSE,\n",
       "  conf.level = 0.95\n",
       ")\n",
       "\\end{verbatim}\n",
       "\\end{Usage}\n",
       "%\n",
       "\\begin{Arguments}\n",
       "\\begin{ldescription}\n",
       "\\item[\\code{mean.x}] a single number representing the sample mean of \\code{x}\n",
       "\n",
       "\\item[\\code{s.x}] a single number representing the sample standard deviation for\n",
       "\\code{x}\n",
       "\n",
       "\\item[\\code{n.x}] a single number representing the sample size for \\code{x}\n",
       "\n",
       "\\item[\\code{mean.y}] a single number representing the sample mean of \\code{y}\n",
       "\n",
       "\\item[\\code{s.y}] a single number representing the sample standard deviation for\n",
       "\\code{y}\n",
       "\n",
       "\\item[\\code{n.y}] a single number representing the sample size for \\code{y}\n",
       "\n",
       "\\item[\\code{alternative}] is a character string, one of \\code{\"greater\"},\n",
       "\\code{\"less\"} or \\code{\"two.sided\"}, or just the initial letter of each,\n",
       "indicating the specification of the alternative hypothesis. For one-sample\n",
       "tests, \\code{alternative} refers to the true mean of the parent population\n",
       "in relation to the hypothesized value \\code{mu}.  For the standard\n",
       "two-sample tests, \\code{alternative} refers to the difference between the\n",
       "true population mean for \\code{x} and that for \\code{y}, in relation to\n",
       "\\code{mu}.  For the one-sample and paired t-tests, \\code{alternative} refers\n",
       "to the true mean of the parent population in relation to the hypothesized\n",
       "value \\code{mu}. For the standard and Welch modified two-sample t-tests,\n",
       "\\code{alternative} refers to the difference between the true population mean\n",
       "for \\code{x} and that for \\code{y}, in relation to \\code{mu}.  For the\n",
       "one-sample t-tests, alternative refers to the true mean of the parent\n",
       "population in relation to the hypothesized value \\code{mu}. For the standard\n",
       "and Welch modified two-sample t-tests, alternative refers to the difference\n",
       "between the true population mean for \\code{x} and that for \\code{y}, in\n",
       "relation to \\code{mu}.\n",
       "\n",
       "\\item[\\code{mu}] is a single number representing the value of the mean or\n",
       "difference in means specified by the null hypothesis.\n",
       "\n",
       "\\item[\\code{var.equal}] logical flag: if \\code{TRUE}, the variances of the parent\n",
       "populations of \\code{x} and \\code{y} are assumed equal. Argument\n",
       "\\code{var.equal} should be supplied only for the two-sample tests.\n",
       "\n",
       "\\item[\\code{conf.level}] is the confidence level for the returned confidence\n",
       "interval; it must lie between zero and one.\n",
       "\\end{ldescription}\n",
       "\\end{Arguments}\n",
       "%\n",
       "\\begin{Details}\n",
       "If \\code{y} is \\code{NULL}, a one-sample t-test is carried out with\n",
       "\\code{x}. If y is not \\code{NULL}, either a standard or Welch modified\n",
       "two-sample t-test is performed, depending on whether \\code{var.equal} is\n",
       "\\code{TRUE} or \\code{FALSE}.\n",
       "\\end{Details}\n",
       "%\n",
       "\\begin{Value}\n",
       "A list of class \\code{htest}, containing the following components:\n",
       "\\begin{ldescription}\n",
       "\\item[\\code{statistic}] the t-statistic, with names attribute \\code{\"t\"}\n",
       "\\item[\\code{parameters}] is the degrees of freedom of the t-distribution associated\n",
       "with statistic.  Component \\code{parameters} has names attribute\n",
       "\\code{\"df\"}.\\item[\\code{p.value}] the p-value for the test.\\item[\\code{conf.int }] is\n",
       "a confidence interval (vector of length 2) for the true mean or difference\n",
       "in means. The confidence level is recorded in the attribute\n",
       "\\code{conf.level}. When alternative is not \\code{\"two.sided\"}, the\n",
       "confidence interval will be half-infinite, to reflect the interpretation of\n",
       "a confidence interval as the set of all values \\code{k} for which one would\n",
       "not reject the null hypothesis that the true mean or difference in means is\n",
       "\\code{k} . Here infinity will be represented by \\code{Inf}.\n",
       "\\item[\\code{estimate}] vector of length 1 or 2, giving the sample mean(s) or mean\n",
       "of differences; these estimate the corresponding population parameters.\n",
       "Component \\code{estimate} has a names attribute describing its elements.\n",
       "\\item[\\code{null.value}] the value of the mean or difference in means specified by\n",
       "the null hypothesis. This equals the input argument \\code{mu}. Component\n",
       "\\code{null.value} has a names attribute describing its elements.\n",
       "\\item[\\code{alternative}] records the value of the input argument alternative:\n",
       "\\code{\"greater\"} , \\code{\"less\"} or \\code{\"two.sided\"}.\\item[\\code{data.name}] a\n",
       "character string (vector of length 1) containing the names x and y for the\n",
       "two summarized samples.\n",
       "\\end{ldescription}\n",
       "\\end{Value}\n",
       "%\n",
       "\\begin{Section}{Null Hypothesis}\n",
       "For the one-sample t-test, the null hypothesis is\n",
       "that the mean of the population from which \\code{x} is drawn is \\code{mu}.\n",
       "For the standard and Welch modified two-sample t-tests, the null hypothesis\n",
       "is that the population mean for \\code{x} less that for \\code{y} is\n",
       "\\code{mu}.\n",
       "\n",
       "The alternative hypothesis in each case indicates the direction of\n",
       "divergence of the population mean for \\code{x} (or difference of means for\n",
       "\\code{x} and \\code{y}) from \\code{mu} (i.e., \\code{\"greater\"},\n",
       "\\code{\"less\"}, or \\code{\"two.sided\"}).\n",
       "\\end{Section}\n",
       "%\n",
       "\\begin{Author}\n",
       "Alan T. Arnholt\n",
       "\\end{Author}\n",
       "%\n",
       "\\begin{References}\n",
       "Kitchens, L.J. (2003). \\emph{Basic Statistics and Data\n",
       "Analysis}. Duxbury.\n",
       "\n",
       "Hogg, R. V. and Craig, A. T. (1970). \\emph{Introduction to Mathematical\n",
       "Statistics, 3rd ed}. Toronto, Canada: Macmillan.\n",
       "\n",
       "Mood, A. M., Graybill, F. A. and Boes, D. C. (1974). \\emph{Introduction to\n",
       "the Theory of Statistics, 3rd ed}. New York: McGraw-Hill.\n",
       "\n",
       "Snedecor, G. W. and Cochran, W. G. (1980). \\emph{Statistical Methods, 7th\n",
       "ed}. Ames, Iowa: Iowa State University Press.\n",
       "\\end{References}\n",
       "%\n",
       "\\begin{SeeAlso}\n",
       "\\code{\\LinkA{z.test}{z.test}}, \\code{\\LinkA{zsum.test}{zsum.test}}\n",
       "\\end{SeeAlso}\n",
       "%\n",
       "\\begin{Examples}\n",
       "\\begin{ExampleCode}\n",
       "\n",
       "tsum.test(mean.x=5.6, s.x=2.1, n.x=16, mu=4.9, alternative=\"greater\")\n",
       "        # Problem 6.31 on page 324 of BSDA states:  The chamber of commerce\n",
       "        # of a particular city claims that the mean carbon dioxide\n",
       "        # level of air polution is no greater than 4.9 ppm.  A random\n",
       "        # sample of 16 readings resulted in a sample mean of 5.6 ppm,\n",
       "        # and s=2.1 ppm.  One-sided one-sample t-test.  The null \n",
       "        # hypothesis is that the population mean for 'x' is 4.9.   \n",
       "        # The alternative hypothesis states that it is greater than 4.9.  \n",
       "\n",
       "x <- rnorm(12) \n",
       "tsum.test(mean(x), sd(x), n.x=12)\n",
       "        # Two-sided one-sample t-test. The null hypothesis is that  \n",
       "        # the population mean for 'x' is zero. The alternative \n",
       "        # hypothesis states  that it is either greater or less \n",
       "        # than zero. A confidence interval for the population mean \n",
       "        # will be computed.  Note: above returns same answer as: \n",
       "t.test(x)\n",
       "   \n",
       "x <- c(7.8, 6.6, 6.5, 7.4, 7.3, 7.0, 6.4, 7.1, 6.7, 7.6, 6.8) \n",
       "y <- c(4.5, 5.4, 6.1, 6.1, 5.4, 5.0, 4.1, 5.5) \n",
       "tsum.test(mean(x), s.x=sd(x), n.x=11 ,mean(y), s.y=sd(y), n.y=8, mu=2)\n",
       "        # Two-sided standard two-sample t-test.  The null hypothesis  \n",
       "        # is that the population mean for 'x' less that for 'y' is 2. \n",
       "        # The alternative hypothesis is that this difference is not 2. \n",
       "        # A confidence interval for the true difference will be computed.\n",
       "        # Note: above returns same answer as: \n",
       "t.test(x, y)\n",
       "        \n",
       "tsum.test(mean(x), s.x=sd(x), n.x=11, mean(y), s.y=sd(y), n.y=8, conf.level=0.90)\n",
       "        # Two-sided standard two-sample t-test.  The null hypothesis \n",
       "        # is that the population mean for 'x' less that for 'y' is zero.  \n",
       "        # The alternative hypothesis is that this difference is not\n",
       "        # zero.  A 90% confidence interval for the true difference will \n",
       "        # be computed.  Note: above returns same answer as:\n",
       "t.test(x, y, conf.level=0.90)\n",
       "\n",
       "\n",
       "\\end{ExampleCode}\n",
       "\\end{Examples}"
      ],
      "text/plain": [
       "tsum.test                 package:BSDA                 R Documentation\n",
       "\n",
       "_\bS_\bu_\bm_\bm_\ba_\br_\bi_\bz_\be_\bd _\bt-_\bt_\be_\bs_\bt\n",
       "\n",
       "_\bD_\be_\bs_\bc_\br_\bi_\bp_\bt_\bi_\bo_\bn:\n",
       "\n",
       "     Performs a one-sample, two-sample, or a Welch modified two-sample\n",
       "     t-test based on user supplied summary information. Output is\n",
       "     identical to that produced with ‘t.test’.\n",
       "\n",
       "_\bU_\bs_\ba_\bg_\be:\n",
       "\n",
       "     tsum.test(\n",
       "       mean.x,\n",
       "       s.x = NULL,\n",
       "       n.x = NULL,\n",
       "       mean.y = NULL,\n",
       "       s.y = NULL,\n",
       "       n.y = NULL,\n",
       "       alternative = \"two.sided\",\n",
       "       mu = 0,\n",
       "       var.equal = FALSE,\n",
       "       conf.level = 0.95\n",
       "     )\n",
       "     \n",
       "_\bA_\br_\bg_\bu_\bm_\be_\bn_\bt_\bs:\n",
       "\n",
       "  mean.x: a single number representing the sample mean of ‘x’\n",
       "\n",
       "     s.x: a single number representing the sample standard deviation\n",
       "          for ‘x’\n",
       "\n",
       "     n.x: a single number representing the sample size for ‘x’\n",
       "\n",
       "  mean.y: a single number representing the sample mean of ‘y’\n",
       "\n",
       "     s.y: a single number representing the sample standard deviation\n",
       "          for ‘y’\n",
       "\n",
       "     n.y: a single number representing the sample size for ‘y’\n",
       "\n",
       "alternative: is a character string, one of ‘\"greater\"’, ‘\"less\"’ or\n",
       "          ‘\"two.sided\"’, or just the initial letter of each, indicating\n",
       "          the specification of the alternative hypothesis. For\n",
       "          one-sample tests, ‘alternative’ refers to the true mean of\n",
       "          the parent population in relation to the hypothesized value\n",
       "          ‘mu’.  For the standard two-sample tests, ‘alternative’\n",
       "          refers to the difference between the true population mean for\n",
       "          ‘x’ and that for ‘y’, in relation to ‘mu’.  For the\n",
       "          one-sample and paired t-tests, ‘alternative’ refers to the\n",
       "          true mean of the parent population in relation to the\n",
       "          hypothesized value ‘mu’. For the standard and Welch modified\n",
       "          two-sample t-tests, ‘alternative’ refers to the difference\n",
       "          between the true population mean for ‘x’ and that for ‘y’, in\n",
       "          relation to ‘mu’.  For the one-sample t-tests, alternative\n",
       "          refers to the true mean of the parent population in relation\n",
       "          to the hypothesized value ‘mu’. For the standard and Welch\n",
       "          modified two-sample t-tests, alternative refers to the\n",
       "          difference between the true population mean for ‘x’ and that\n",
       "          for ‘y’, in relation to ‘mu’.\n",
       "\n",
       "      mu: is a single number representing the value of the mean or\n",
       "          difference in means specified by the null hypothesis.\n",
       "\n",
       "var.equal: logical flag: if ‘TRUE’, the variances of the parent\n",
       "          populations of ‘x’ and ‘y’ are assumed equal. Argument\n",
       "          ‘var.equal’ should be supplied only for the two-sample tests.\n",
       "\n",
       "conf.level: is the confidence level for the returned confidence\n",
       "          interval; it must lie between zero and one.\n",
       "\n",
       "_\bD_\be_\bt_\ba_\bi_\bl_\bs:\n",
       "\n",
       "     If ‘y’ is ‘NULL’, a one-sample t-test is carried out with ‘x’. If\n",
       "     y is not ‘NULL’, either a standard or Welch modified two-sample\n",
       "     t-test is performed, depending on whether ‘var.equal’ is ‘TRUE’ or\n",
       "     ‘FALSE’.\n",
       "\n",
       "_\bV_\ba_\bl_\bu_\be:\n",
       "\n",
       "     A list of class ‘htest’, containing the following components:\n",
       "\n",
       "statistic: the t-statistic, with names attribute ‘\"t\"’\n",
       "\n",
       "parameters: is the degrees of freedom of the t-distribution associated\n",
       "          with statistic.  Component ‘parameters’ has names attribute\n",
       "          ‘\"df\"’.\n",
       "\n",
       " p.value: the p-value for the test.\n",
       "\n",
       "conf.int : is a confidence interval (vector of length 2) for the true\n",
       "          mean or difference in means. The confidence level is recorded\n",
       "          in the attribute ‘conf.level’. When alternative is not\n",
       "          ‘\"two.sided\"’, the confidence interval will be half-infinite,\n",
       "          to reflect the interpretation of a confidence interval as the\n",
       "          set of all values ‘k’ for which one would not reject the null\n",
       "          hypothesis that the true mean or difference in means is ‘k’ .\n",
       "          Here infinity will be represented by ‘Inf’.\n",
       "\n",
       "estimate: vector of length 1 or 2, giving the sample mean(s) or mean of\n",
       "          differences; these estimate the corresponding population\n",
       "          parameters. Component ‘estimate’ has a names attribute\n",
       "          describing its elements.\n",
       "\n",
       "null.value: the value of the mean or difference in means specified by\n",
       "          the null hypothesis. This equals the input argument ‘mu’.\n",
       "          Component ‘null.value’ has a names attribute describing its\n",
       "          elements.\n",
       "\n",
       "alternative: records the value of the input argument alternative:\n",
       "          ‘\"greater\"’ , ‘\"less\"’ or ‘\"two.sided\"’.\n",
       "\n",
       "data.name: a character string (vector of length 1) containing the names\n",
       "          x and y for the two summarized samples.\n",
       "\n",
       "_\bN_\bu_\bl_\bl _\bH_\by_\bp_\bo_\bt_\bh_\be_\bs_\bi_\bs:\n",
       "\n",
       "     For the one-sample t-test, the null hypothesis is that the mean of\n",
       "     the population from which ‘x’ is drawn is ‘mu’. For the standard\n",
       "     and Welch modified two-sample t-tests, the null hypothesis is that\n",
       "     the population mean for ‘x’ less that for ‘y’ is ‘mu’.\n",
       "\n",
       "     The alternative hypothesis in each case indicates the direction of\n",
       "     divergence of the population mean for ‘x’ (or difference of means\n",
       "     for ‘x’ and ‘y’) from ‘mu’ (i.e., ‘\"greater\"’, ‘\"less\"’, or\n",
       "     ‘\"two.sided\"’).\n",
       "\n",
       "_\bA_\bu_\bt_\bh_\bo_\br(_\bs):\n",
       "\n",
       "     Alan T. Arnholt\n",
       "\n",
       "_\bR_\be_\bf_\be_\br_\be_\bn_\bc_\be_\bs:\n",
       "\n",
       "     Kitchens, L.J. (2003). _Basic Statistics and Data Analysis_.\n",
       "     Duxbury.\n",
       "\n",
       "     Hogg, R. V. and Craig, A. T. (1970). _Introduction to Mathematical\n",
       "     Statistics, 3rd ed_. Toronto, Canada: Macmillan.\n",
       "\n",
       "     Mood, A. M., Graybill, F. A. and Boes, D. C. (1974). _Introduction\n",
       "     to the Theory of Statistics, 3rd ed_. New York: McGraw-Hill.\n",
       "\n",
       "     Snedecor, G. W. and Cochran, W. G. (1980). _Statistical Methods,\n",
       "     7th ed_. Ames, Iowa: Iowa State University Press.\n",
       "\n",
       "_\bS_\be_\be _\bA_\bl_\bs_\bo:\n",
       "\n",
       "     ‘z.test’, ‘zsum.test’\n",
       "\n",
       "_\bE_\bx_\ba_\bm_\bp_\bl_\be_\bs:\n",
       "\n",
       "     tsum.test(mean.x=5.6, s.x=2.1, n.x=16, mu=4.9, alternative=\"greater\")\n",
       "             # Problem 6.31 on page 324 of BSDA states:  The chamber of commerce\n",
       "             # of a particular city claims that the mean carbon dioxide\n",
       "             # level of air polution is no greater than 4.9 ppm.  A random\n",
       "             # sample of 16 readings resulted in a sample mean of 5.6 ppm,\n",
       "             # and s=2.1 ppm.  One-sided one-sample t-test.  The null \n",
       "             # hypothesis is that the population mean for 'x' is 4.9.   \n",
       "             # The alternative hypothesis states that it is greater than 4.9.  \n",
       "     \n",
       "     x <- rnorm(12) \n",
       "     tsum.test(mean(x), sd(x), n.x=12)\n",
       "             # Two-sided one-sample t-test. The null hypothesis is that  \n",
       "             # the population mean for 'x' is zero. The alternative \n",
       "             # hypothesis states  that it is either greater or less \n",
       "             # than zero. A confidence interval for the population mean \n",
       "             # will be computed.  Note: above returns same answer as: \n",
       "     t.test(x)\n",
       "        \n",
       "     x <- c(7.8, 6.6, 6.5, 7.4, 7.3, 7.0, 6.4, 7.1, 6.7, 7.6, 6.8) \n",
       "     y <- c(4.5, 5.4, 6.1, 6.1, 5.4, 5.0, 4.1, 5.5) \n",
       "     tsum.test(mean(x), s.x=sd(x), n.x=11 ,mean(y), s.y=sd(y), n.y=8, mu=2)\n",
       "             # Two-sided standard two-sample t-test.  The null hypothesis  \n",
       "             # is that the population mean for 'x' less that for 'y' is 2. \n",
       "             # The alternative hypothesis is that this difference is not 2. \n",
       "             # A confidence interval for the true difference will be computed.\n",
       "             # Note: above returns same answer as: \n",
       "     t.test(x, y)\n",
       "             \n",
       "     tsum.test(mean(x), s.x=sd(x), n.x=11, mean(y), s.y=sd(y), n.y=8, conf.level=0.90)\n",
       "             # Two-sided standard two-sample t-test.  The null hypothesis \n",
       "             # is that the population mean for 'x' less that for 'y' is zero.  \n",
       "             # The alternative hypothesis is that this difference is not\n",
       "             # zero.  A 90% confidence interval for the true difference will \n",
       "             # be computed.  Note: above returns same answer as:\n",
       "     t.test(x, y, conf.level=0.90)\n",
       "     "
      ]
     },
     "metadata": {},
     "output_type": "display_data"
    }
   ],
   "source": [
    "?tsum.test"
   ]
  }
 ],
 "metadata": {
  "kernelspec": {
   "display_name": "R",
   "language": "R",
   "name": "ir"
  },
  "language_info": {
   "codemirror_mode": "r",
   "file_extension": ".r",
   "mimetype": "text/x-r-source",
   "name": "R",
   "pygments_lexer": "r",
   "version": "4.3.0"
  }
 },
 "nbformat": 4,
 "nbformat_minor": 5
}
