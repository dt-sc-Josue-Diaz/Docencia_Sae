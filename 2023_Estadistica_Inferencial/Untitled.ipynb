{
 "cells": [
  {
   "cell_type": "code",
   "execution_count": 24,
   "id": "40432771-0f3e-4c43-b8f4-4bdfa9ec17fc",
   "metadata": {
    "tags": []
   },
   "outputs": [
    {
     "data": {
      "text/html": [
       "<style>\n",
       ".list-inline {list-style: none; margin:0; padding: 0}\n",
       ".list-inline>li {display: inline-block}\n",
       ".list-inline>li:not(:last-child)::after {content: \"\\00b7\"; padding: 0 .5ex}\n",
       "</style>\n",
       "<ol class=list-inline><li>2.7821504537846</li><li>1.69014613752747</li><li>0.475262337515298</li><li>0.612812991016627</li></ol>\n"
      ],
      "text/latex": [
       "\\begin{enumerate*}\n",
       "\\item 2.7821504537846\n",
       "\\item 1.69014613752747\n",
       "\\item 0.475262337515298\n",
       "\\item 0.612812991016627\n",
       "\\end{enumerate*}\n"
      ],
      "text/markdown": [
       "1. 2.7821504537846\n",
       "2. 1.69014613752747\n",
       "3. 0.475262337515298\n",
       "4. 0.612812991016627\n",
       "\n",
       "\n"
      ],
      "text/plain": [
       "[1] 2.7821505 1.6901461 0.4752623 0.6128130"
      ]
     },
     "metadata": {},
     "output_type": "display_data"
    }
   ],
   "source": [
    "cuantiles <- c(.9973,.9545,.6827,.73)\n",
    "qnorm(cuantiles)"
   ]
  },
  {
   "cell_type": "code",
   "execution_count": 25,
   "id": "81422f84-211a-44a7-886d-410b350ee544",
   "metadata": {
    "tags": []
   },
   "outputs": [
    {
     "data": {
      "text/html": [
       "<style>\n",
       ".list-inline {list-style: none; margin:0; padding: 0}\n",
       ".list-inline>li {display: inline-block}\n",
       ".list-inline>li:not(:last-child)::after {content: \"\\00b7\"; padding: 0 .5ex}\n",
       "</style>\n",
       "<ol class=list-inline><li>3.45293725995841</li><li>1.85220336799167</li><li>0.48877480547567</li><li>0.632475989864563</li></ol>\n"
      ],
      "text/latex": [
       "\\begin{enumerate*}\n",
       "\\item 3.45293725995841\n",
       "\\item 1.85220336799167\n",
       "\\item 0.48877480547567\n",
       "\\item 0.632475989864563\n",
       "\\end{enumerate*}\n"
      ],
      "text/markdown": [
       "1. 3.45293725995841\n",
       "2. 1.85220336799167\n",
       "3. 0.48877480547567\n",
       "4. 0.632475989864563\n",
       "\n",
       "\n"
      ],
      "text/plain": [
       "[1] 3.4529373 1.8522034 0.4887748 0.6324760"
      ]
     },
     "metadata": {},
     "output_type": "display_data"
    },
    {
     "data": {
      "text/html": [
       "<style>\n",
       ".list-inline {list-style: none; margin:0; padding: 0}\n",
       ".list-inline>li {display: inline-block}\n",
       ".list-inline>li:not(:last-child)::after {content: \"\\00b7\"; padding: 0 .5ex}\n",
       "</style>\n",
       "<ol class=list-inline><li>3.24848899762898</li><li>1.80613456194418</li><li>0.485119849492092</li><li>0.627134846059411</li></ol>\n"
      ],
      "text/latex": [
       "\\begin{enumerate*}\n",
       "\\item 3.24848899762898\n",
       "\\item 1.80613456194418\n",
       "\\item 0.485119849492092\n",
       "\\item 0.627134846059411\n",
       "\\end{enumerate*}\n"
      ],
      "text/markdown": [
       "1. 3.24848899762898\n",
       "2. 1.80613456194418\n",
       "3. 0.485119849492092\n",
       "4. 0.627134846059411\n",
       "\n",
       "\n"
      ],
      "text/plain": [
       "[1] 3.2484890 1.8061346 0.4851198 0.6271348"
      ]
     },
     "metadata": {},
     "output_type": "display_data"
    }
   ],
   "source": [
    "cuantiles <- c(.9973,.9545,.6827,.73)\n",
    "qt(cuantiles,11)\n",
    "qt(cuantiles,15)"
   ]
  },
  {
   "cell_type": "code",
   "execution_count": 16,
   "id": "64f03662-7a92-4902-8a4c-c5fcb9bd41ae",
   "metadata": {
    "tags": []
   },
   "outputs": [
    {
     "data": {
      "text/html": [
       "0.99865010196837"
      ],
      "text/latex": [
       "0.99865010196837"
      ],
      "text/markdown": [
       "0.99865010196837"
      ],
      "text/plain": [
       "[1] 0.9986501"
      ]
     },
     "metadata": {},
     "output_type": "display_data"
    },
    {
     "data": {
      "text/html": [
       "2.7821504537846"
      ],
      "text/latex": [
       "2.7821504537846"
      ],
      "text/markdown": [
       "2.7821504537846"
      ],
      "text/plain": [
       "[1] 2.78215"
      ]
     },
     "metadata": {},
     "output_type": "display_data"
    }
   ],
   "source": [
    "pnorm(3)\n",
    "qnorm(.9973)"
   ]
  },
  {
   "cell_type": "code",
   "execution_count": 14,
   "id": "f494d690-9e40-4561-872d-a3abf3c25f95",
   "metadata": {
    "tags": []
   },
   "outputs": [
    {
     "data": {
      "text/html": [
       "0.0627067779432138"
      ],
      "text/latex": [
       "0.0627067779432138"
      ],
      "text/markdown": [
       "0.0627067779432138"
      ],
      "text/plain": [
       "[1] 0.06270678"
      ]
     },
     "metadata": {},
     "output_type": "display_data"
    }
   ],
   "source": [
    "qnorm(.475,lower.tail=FALSE)"
   ]
  },
  {
   "cell_type": "code",
   "execution_count": 13,
   "id": "2306215e-5a61-427d-b9f5-c5eccba6dedc",
   "metadata": {
    "tags": []
   },
   "outputs": [
    {
     "data": {
      "text/html": [
       "0.475"
      ],
      "text/latex": [
       "0.475"
      ],
      "text/markdown": [
       "0.475"
      ],
      "text/plain": [
       "[1] 0.475"
      ]
     },
     "metadata": {},
     "output_type": "display_data"
    }
   ],
   "source": [
    "pnorm(-0.0627067779432138)"
   ]
  }
 ],
 "metadata": {
  "kernelspec": {
   "display_name": "R",
   "language": "R",
   "name": "ir"
  },
  "language_info": {
   "codemirror_mode": "r",
   "file_extension": ".r",
   "mimetype": "text/x-r-source",
   "name": "R",
   "pygments_lexer": "r",
   "version": "4.2.2"
  }
 },
 "nbformat": 4,
 "nbformat_minor": 5
}
